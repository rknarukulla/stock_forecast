{
 "cells": [
  {
   "cell_type": "code",
   "execution_count": 1,
   "id": "750bdd32-0838-484c-93f7-67dc63291782",
   "metadata": {},
   "outputs": [],
   "source": [
    "import pandas as pd\n",
    "import xgboost as xgb\n",
    "from sklearn.metrics import mean_squared_error\n",
    "import matplotlib.pyplot as plt\n",
    "import seaborn as sns\n",
    "import datetime as dt"
   ]
  },
  {
   "cell_type": "code",
   "execution_count": 2,
   "id": "abfd5a17-dbde-458f-a320-3bff48293a53",
   "metadata": {},
   "outputs": [],
   "source": [
    "import sys  \n",
    "sys.path.append( '..')"
   ]
  },
  {
   "cell_type": "code",
   "execution_count": 3,
   "id": "5ae6fca1-5919-468d-a145-1730268c4f8f",
   "metadata": {},
   "outputs": [
    {
     "name": "stderr",
     "output_type": "stream",
     "text": [
      "/Users/ravinarukulla/PycharmProjects/stock_forecast/venv/lib/python3.9/site-packages/urllib3/__init__.py:35: NotOpenSSLWarning: urllib3 v2 only supports OpenSSL 1.1.1+, currently the 'ssl' module is compiled with 'LibreSSL 2.8.3'. See: https://github.com/urllib3/urllib3/issues/3020\n",
      "  warnings.warn(\n"
     ]
    }
   ],
   "source": [
    "from src.stocks import build_model,build_n_forecast,download_stocks,build_h20_automl"
   ]
  },
  {
   "cell_type": "markdown",
   "id": "4b67c127-769d-4e47-b9f4-db13b240b061",
   "metadata": {},
   "source": [
    "## Build and forecast"
   ]
  },
  {
   "cell_type": "code",
   "execution_count": 4,
   "id": "042cca34-e3a2-4afa-947f-f8acb4c68ac7",
   "metadata": {},
   "outputs": [],
   "source": [
    "stock_names = [\"RELIANCE.NS\", \"TCS.NS\"]"
   ]
  },
  {
   "cell_type": "code",
   "execution_count": 5,
   "id": "f010f642-ff67-42a8-9695-9b370ec02729",
   "metadata": {
    "scrolled": true
   },
   "outputs": [
    {
     "name": "stdout",
     "output_type": "stream",
     "text": [
      "Building model for  RELIANCE.NS\n",
      "Checking whether there is an H2O instance running at http://localhost:54321..... not found.\n",
      "Attempting to start a local H2O server...\n",
      "  Java Version: openjdk version \"21.0.2\" 2024-01-16; OpenJDK Runtime Environment Homebrew (build 21.0.2); OpenJDK 64-Bit Server VM Homebrew (build 21.0.2, mixed mode, sharing)\n",
      "  Starting server from /Users/ravinarukulla/PycharmProjects/stock_forecast/venv/lib/python3.9/site-packages/h2o/backend/bin/h2o.jar\n",
      "  Ice root: /var/folders/pm/hbfkq1hn4_9cb_wjzl5gpjb40000gn/T/tmp48u73qzl\n",
      "  JVM stdout: /var/folders/pm/hbfkq1hn4_9cb_wjzl5gpjb40000gn/T/tmp48u73qzl/h2o_ravinarukulla_started_from_python.out\n",
      "  JVM stderr: /var/folders/pm/hbfkq1hn4_9cb_wjzl5gpjb40000gn/T/tmp48u73qzl/h2o_ravinarukulla_started_from_python.err\n",
      "  Server is running at http://127.0.0.1:54321\n",
      "Connecting to H2O server at http://127.0.0.1:54321 ... successful.\n"
     ]
    },
    {
     "data": {
      "text/html": [
       "\n",
       "<style>\n",
       "\n",
       "#h2o-table-1.h2o-container {\n",
       "  overflow-x: auto;\n",
       "}\n",
       "#h2o-table-1 .h2o-table {\n",
       "  /* width: 100%; */\n",
       "  margin-top: 1em;\n",
       "  margin-bottom: 1em;\n",
       "}\n",
       "#h2o-table-1 .h2o-table caption {\n",
       "  white-space: nowrap;\n",
       "  caption-side: top;\n",
       "  text-align: left;\n",
       "  /* margin-left: 1em; */\n",
       "  margin: 0;\n",
       "  font-size: larger;\n",
       "}\n",
       "#h2o-table-1 .h2o-table thead {\n",
       "  white-space: nowrap; \n",
       "  position: sticky;\n",
       "  top: 0;\n",
       "  box-shadow: 0 -1px inset;\n",
       "}\n",
       "#h2o-table-1 .h2o-table tbody {\n",
       "  overflow: auto;\n",
       "}\n",
       "#h2o-table-1 .h2o-table th,\n",
       "#h2o-table-1 .h2o-table td {\n",
       "  text-align: right;\n",
       "  /* border: 1px solid; */\n",
       "}\n",
       "#h2o-table-1 .h2o-table tr:nth-child(even) {\n",
       "  /* background: #F5F5F5 */\n",
       "}\n",
       "\n",
       "</style>      \n",
       "<div id=\"h2o-table-1\" class=\"h2o-container\">\n",
       "  <table class=\"h2o-table\">\n",
       "    <caption></caption>\n",
       "    <thead></thead>\n",
       "    <tbody><tr><td>H2O_cluster_uptime:</td>\n",
       "<td>02 secs</td></tr>\n",
       "<tr><td>H2O_cluster_timezone:</td>\n",
       "<td>Asia/Kolkata</td></tr>\n",
       "<tr><td>H2O_data_parsing_timezone:</td>\n",
       "<td>UTC</td></tr>\n",
       "<tr><td>H2O_cluster_version:</td>\n",
       "<td>3.46.0.1</td></tr>\n",
       "<tr><td>H2O_cluster_version_age:</td>\n",
       "<td>25 days</td></tr>\n",
       "<tr><td>H2O_cluster_name:</td>\n",
       "<td>H2O_from_python_ravinarukulla_nmteqs</td></tr>\n",
       "<tr><td>H2O_cluster_total_nodes:</td>\n",
       "<td>1</td></tr>\n",
       "<tr><td>H2O_cluster_free_memory:</td>\n",
       "<td>3.984 Gb</td></tr>\n",
       "<tr><td>H2O_cluster_total_cores:</td>\n",
       "<td>8</td></tr>\n",
       "<tr><td>H2O_cluster_allowed_cores:</td>\n",
       "<td>8</td></tr>\n",
       "<tr><td>H2O_cluster_status:</td>\n",
       "<td>locked, healthy</td></tr>\n",
       "<tr><td>H2O_connection_url:</td>\n",
       "<td>http://127.0.0.1:54321</td></tr>\n",
       "<tr><td>H2O_connection_proxy:</td>\n",
       "<td>{\"http\": null, \"https\": null}</td></tr>\n",
       "<tr><td>H2O_internal_security:</td>\n",
       "<td>False</td></tr>\n",
       "<tr><td>Python_version:</td>\n",
       "<td>3.9.6 final</td></tr></tbody>\n",
       "  </table>\n",
       "</div>\n"
      ],
      "text/plain": [
       "--------------------------  ------------------------------------\n",
       "H2O_cluster_uptime:         02 secs\n",
       "H2O_cluster_timezone:       Asia/Kolkata\n",
       "H2O_data_parsing_timezone:  UTC\n",
       "H2O_cluster_version:        3.46.0.1\n",
       "H2O_cluster_version_age:    25 days\n",
       "H2O_cluster_name:           H2O_from_python_ravinarukulla_nmteqs\n",
       "H2O_cluster_total_nodes:    1\n",
       "H2O_cluster_free_memory:    3.984 Gb\n",
       "H2O_cluster_total_cores:    8\n",
       "H2O_cluster_allowed_cores:  8\n",
       "H2O_cluster_status:         locked, healthy\n",
       "H2O_connection_url:         http://127.0.0.1:54321\n",
       "H2O_connection_proxy:       {\"http\": null, \"https\": null}\n",
       "H2O_internal_security:      False\n",
       "Python_version:             3.9.6 final\n",
       "--------------------------  ------------------------------------"
      ]
     },
     "metadata": {},
     "output_type": "display_data"
    },
    {
     "name": "stdout",
     "output_type": "stream",
     "text": [
      "Parse progress: |████████████████████████████████████████████████████████████████| (done) 100%\n",
      "AutoML progress: |\n",
      "01:31:28.694: GBM_1_AutoML_1_20240408_13128 [GBM def_5] failed: water.exceptions.H2OModelBuilderIllegalArgumentException: Illegal argument(s) for GBM model: GBM_1_AutoML_1_20240408_13128.  Details: ERRR on field: _min_rows: The dataset size is too small to split for min_rows=100.0: must have at least 200.0 (weighted) rows, but have only 186.0.\n",
      "ERRR on field: _min_rows: The dataset size is too small to split for min_rows=100.0: must have at least 200.0 (weighted) rows, but have only 186.0.\n",
      "ERRR on field: _min_rows: The dataset size is too small to split for min_rows=100.0: must have at least 200.0 (weighted) rows, but have only 186.0.\n",
      "ERRR on field: _min_rows: The dataset size is too small to split for min_rows=100.0: must have at least 200.0 (weighted) rows, but have only 187.0.\n",
      "ERRR on field: _min_rows: The dataset size is too small to split for min_rows=100.0: must have at least 200.0 (weighted) rows, but have only 187.0.\n",
      "\n",
      "\n",
      "███████████████████████████████████████████████████████████████| (done) 100%\n",
      "Parse progress: |████████████████████████████████████████████████████████████████| (done) 100%\n",
      "gbm prediction progress: |███████████████████████████████████████████████████████| (done) 100%\n",
      "Building model for  TCS.NS\n",
      "Checking whether there is an H2O instance running at http://localhost:54321. connected.\n"
     ]
    },
    {
     "name": "stderr",
     "output_type": "stream",
     "text": [
      "/Users/ravinarukulla/PycharmProjects/stock_forecast/venv/lib/python3.9/site-packages/h2o/frame.py:1983: H2ODependencyWarning: Converting H2O frame to pandas dataframe using single-thread.  For faster conversion using multi-thread, install datatable (for Python 3.9 or lower), or polars and pyarrow (for Python 3.10 or above) and activate it using:\n",
      "\n",
      "with h2o.utils.threading.local_context(polars_enabled=True, datatable_enabled=True):\n",
      "    pandas_df = h2o_df.as_data_frame()\n",
      "\n",
      "  warnings.warn(\"Converting H2O frame to pandas dataframe using single-thread.  For faster conversion using\"\n"
     ]
    },
    {
     "data": {
      "text/html": [
       "\n",
       "<style>\n",
       "\n",
       "#h2o-table-2.h2o-container {\n",
       "  overflow-x: auto;\n",
       "}\n",
       "#h2o-table-2 .h2o-table {\n",
       "  /* width: 100%; */\n",
       "  margin-top: 1em;\n",
       "  margin-bottom: 1em;\n",
       "}\n",
       "#h2o-table-2 .h2o-table caption {\n",
       "  white-space: nowrap;\n",
       "  caption-side: top;\n",
       "  text-align: left;\n",
       "  /* margin-left: 1em; */\n",
       "  margin: 0;\n",
       "  font-size: larger;\n",
       "}\n",
       "#h2o-table-2 .h2o-table thead {\n",
       "  white-space: nowrap; \n",
       "  position: sticky;\n",
       "  top: 0;\n",
       "  box-shadow: 0 -1px inset;\n",
       "}\n",
       "#h2o-table-2 .h2o-table tbody {\n",
       "  overflow: auto;\n",
       "}\n",
       "#h2o-table-2 .h2o-table th,\n",
       "#h2o-table-2 .h2o-table td {\n",
       "  text-align: right;\n",
       "  /* border: 1px solid; */\n",
       "}\n",
       "#h2o-table-2 .h2o-table tr:nth-child(even) {\n",
       "  /* background: #F5F5F5 */\n",
       "}\n",
       "\n",
       "</style>      \n",
       "<div id=\"h2o-table-2\" class=\"h2o-container\">\n",
       "  <table class=\"h2o-table\">\n",
       "    <caption></caption>\n",
       "    <thead></thead>\n",
       "    <tbody><tr><td>H2O_cluster_uptime:</td>\n",
       "<td>13 secs</td></tr>\n",
       "<tr><td>H2O_cluster_timezone:</td>\n",
       "<td>Asia/Kolkata</td></tr>\n",
       "<tr><td>H2O_data_parsing_timezone:</td>\n",
       "<td>UTC</td></tr>\n",
       "<tr><td>H2O_cluster_version:</td>\n",
       "<td>3.46.0.1</td></tr>\n",
       "<tr><td>H2O_cluster_version_age:</td>\n",
       "<td>25 days</td></tr>\n",
       "<tr><td>H2O_cluster_name:</td>\n",
       "<td>H2O_from_python_ravinarukulla_nmteqs</td></tr>\n",
       "<tr><td>H2O_cluster_total_nodes:</td>\n",
       "<td>1</td></tr>\n",
       "<tr><td>H2O_cluster_free_memory:</td>\n",
       "<td>3.944 Gb</td></tr>\n",
       "<tr><td>H2O_cluster_total_cores:</td>\n",
       "<td>8</td></tr>\n",
       "<tr><td>H2O_cluster_allowed_cores:</td>\n",
       "<td>8</td></tr>\n",
       "<tr><td>H2O_cluster_status:</td>\n",
       "<td>locked, healthy</td></tr>\n",
       "<tr><td>H2O_connection_url:</td>\n",
       "<td>http://localhost:54321</td></tr>\n",
       "<tr><td>H2O_connection_proxy:</td>\n",
       "<td>{\"http\": null, \"https\": null}</td></tr>\n",
       "<tr><td>H2O_internal_security:</td>\n",
       "<td>False</td></tr>\n",
       "<tr><td>Python_version:</td>\n",
       "<td>3.9.6 final</td></tr></tbody>\n",
       "  </table>\n",
       "</div>\n"
      ],
      "text/plain": [
       "--------------------------  ------------------------------------\n",
       "H2O_cluster_uptime:         13 secs\n",
       "H2O_cluster_timezone:       Asia/Kolkata\n",
       "H2O_data_parsing_timezone:  UTC\n",
       "H2O_cluster_version:        3.46.0.1\n",
       "H2O_cluster_version_age:    25 days\n",
       "H2O_cluster_name:           H2O_from_python_ravinarukulla_nmteqs\n",
       "H2O_cluster_total_nodes:    1\n",
       "H2O_cluster_free_memory:    3.944 Gb\n",
       "H2O_cluster_total_cores:    8\n",
       "H2O_cluster_allowed_cores:  8\n",
       "H2O_cluster_status:         locked, healthy\n",
       "H2O_connection_url:         http://localhost:54321\n",
       "H2O_connection_proxy:       {\"http\": null, \"https\": null}\n",
       "H2O_internal_security:      False\n",
       "Python_version:             3.9.6 final\n",
       "--------------------------  ------------------------------------"
      ]
     },
     "metadata": {},
     "output_type": "display_data"
    },
    {
     "name": "stdout",
     "output_type": "stream",
     "text": [
      "Parse progress: |████████████████████████████████████████████████████████████████| (done) 100%\n",
      "AutoML progress: |\n",
      "01:31:39.873: GBM_1_AutoML_2_20240408_13139 [GBM def_5] failed: water.exceptions.H2OModelBuilderIllegalArgumentException: Illegal argument(s) for GBM model: GBM_1_AutoML_2_20240408_13139.  Details: ERRR on field: _min_rows: The dataset size is too small to split for min_rows=100.0: must have at least 200.0 (weighted) rows, but have only 186.0.\n",
      "ERRR on field: _min_rows: The dataset size is too small to split for min_rows=100.0: must have at least 200.0 (weighted) rows, but have only 186.0.\n",
      "ERRR on field: _min_rows: The dataset size is too small to split for min_rows=100.0: must have at least 200.0 (weighted) rows, but have only 186.0.\n",
      "ERRR on field: _min_rows: The dataset size is too small to split for min_rows=100.0: must have at least 200.0 (weighted) rows, but have only 187.0.\n",
      "ERRR on field: _min_rows: The dataset size is too small to split for min_rows=100.0: must have at least 200.0 (weighted) rows, but have only 187.0.\n",
      "\n",
      "\n",
      "███████████████████████████████████████████████████████████████| (done) 100%\n",
      "Parse progress: |████████████████████████████████████████████████████████████████| (done) 100%\n",
      "glm prediction progress: |███████████████████████████████████████████████████████| (done) 100%\n"
     ]
    },
    {
     "name": "stderr",
     "output_type": "stream",
     "text": [
      "/Users/ravinarukulla/PycharmProjects/stock_forecast/venv/lib/python3.9/site-packages/h2o/frame.py:1983: H2ODependencyWarning: Converting H2O frame to pandas dataframe using single-thread.  For faster conversion using multi-thread, install datatable (for Python 3.9 or lower), or polars and pyarrow (for Python 3.10 or above) and activate it using:\n",
      "\n",
      "with h2o.utils.threading.local_context(polars_enabled=True, datatable_enabled=True):\n",
      "    pandas_df = h2o_df.as_data_frame()\n",
      "\n",
      "  warnings.warn(\"Converting H2O frame to pandas dataframe using single-thread.  For faster conversion using\"\n"
     ]
    }
   ],
   "source": [
    "forecast_df = build_n_forecast(stock_names,validation_days=10,model_name=\"h2o_automl\")"
   ]
  },
  {
   "cell_type": "code",
   "execution_count": 6,
   "id": "662af456-d956-4f3f-9744-f1acb90ae867",
   "metadata": {},
   "outputs": [
    {
     "data": {
      "text/html": [
       "<div>\n",
       "<style scoped>\n",
       "    .dataframe tbody tr th:only-of-type {\n",
       "        vertical-align: middle;\n",
       "    }\n",
       "\n",
       "    .dataframe tbody tr th {\n",
       "        vertical-align: top;\n",
       "    }\n",
       "\n",
       "    .dataframe thead th {\n",
       "        text-align: right;\n",
       "    }\n",
       "</style>\n",
       "<table border=\"1\" class=\"dataframe\">\n",
       "  <thead>\n",
       "    <tr style=\"text-align: right;\">\n",
       "      <th></th>\n",
       "      <th>forecast</th>\n",
       "      <th>Date</th>\n",
       "      <th>Stock</th>\n",
       "      <th>Forecast_period</th>\n",
       "    </tr>\n",
       "  </thead>\n",
       "  <tbody>\n",
       "    <tr>\n",
       "      <th>0</th>\n",
       "      <td>2927.220116</td>\n",
       "      <td>2024-04-01</td>\n",
       "      <td>RELIANCE.NS</td>\n",
       "      <td>2024-04-02</td>\n",
       "    </tr>\n",
       "    <tr>\n",
       "      <th>0</th>\n",
       "      <td>3901.445349</td>\n",
       "      <td>2024-04-01</td>\n",
       "      <td>TCS.NS</td>\n",
       "      <td>2024-04-02</td>\n",
       "    </tr>\n",
       "  </tbody>\n",
       "</table>\n",
       "</div>"
      ],
      "text/plain": [
       "      forecast        Date        Stock Forecast_period\n",
       "0  2927.220116  2024-04-01  RELIANCE.NS      2024-04-02\n",
       "0  3901.445349  2024-04-01       TCS.NS      2024-04-02"
      ]
     },
     "execution_count": 6,
     "metadata": {},
     "output_type": "execute_result"
    }
   ],
   "source": [
    "forecast_df"
   ]
  },
  {
   "cell_type": "code",
   "execution_count": 21,
   "id": "19c9c191-ce51-4f34-afca-c2914c2a97cd",
   "metadata": {},
   "outputs": [
    {
     "ename": "NameError",
     "evalue": "name 'Forecast_period' is not defined",
     "output_type": "error",
     "traceback": [
      "\u001b[0;31m---------------------------------------------------------------------------\u001b[0m",
      "\u001b[0;31mNameError\u001b[0m                                 Traceback (most recent call last)",
      "Cell \u001b[0;32mIn[21], line 1\u001b[0m\n\u001b[0;32m----> 1\u001b[0m pd\u001b[38;5;241m.\u001b[39mto_datetime(\u001b[43mForecast_period\u001b[49m\u001b[38;5;241m.\u001b[39mDate)\u001b[38;5;241m.\u001b[39mmin()\n",
      "\u001b[0;31mNameError\u001b[0m: name 'Forecast_period' is not defined"
     ]
    }
   ],
   "source": [
    "pd.to_datetime(forecast_df.Date).min()"
   ]
  },
  {
   "cell_type": "markdown",
   "id": "c362c0a4-ed00-4050-b3a4-be436255986f",
   "metadata": {},
   "source": [
    "## H2o Model"
   ]
  },
  {
   "cell_type": "code",
   "execution_count": null,
   "id": "c2de6b00-9ab2-4a75-89e2-02f41184c858",
   "metadata": {},
   "outputs": [],
   "source": [
    "stock_name = \"RELIANCE.NS\"\n",
    "date_column=\"Date\""
   ]
  },
  {
   "cell_type": "markdown",
   "id": "004cba2f-38ce-4bf0-add2-a0ebde477f31",
   "metadata": {},
   "source": [
    "## Get stock for validation"
   ]
  },
  {
   "cell_type": "code",
   "execution_count": 22,
   "id": "a9fd9994-7da2-469d-9b67-d0d5c9862720",
   "metadata": {},
   "outputs": [
    {
     "data": {
      "text/plain": [
       "(Timestamp('2024-03-29 00:00:00'), Timestamp('2024-04-02 00:00:00'))"
      ]
     },
     "execution_count": 22,
     "metadata": {},
     "output_type": "execute_result"
    }
   ],
   "source": [
    "# Define the stock codes you are interested in\n",
    "stock_codes = [\"RELIANCE.NS\",\"TCS.NS\",\"DABUR.NS\",\"ADANIGREEN.NS\",\"SOLARA.NS\",\"ZYDUSLIFE.NS\",\"TATAMOTORS.NS\",\"KPIL.NS\"]\n",
    "\n",
    "# end_date = datetime.now() - timedelta(days=1)\n",
    "end_date= pd.to_datetime(forecast_df.Date).min() + dt.timedelta(days=1)\n",
    "\n",
    "start_date = end_date - dt.timedelta(days=4)\n",
    "start_date, end_date"
   ]
  },
  {
   "cell_type": "code",
   "execution_count": 23,
   "id": "39574e76-20ee-4dd6-a0ff-53eb0eebede9",
   "metadata": {},
   "outputs": [
    {
     "name": "stderr",
     "output_type": "stream",
     "text": [
      "[*********************100%%**********************]  1 of 1 completed\n",
      "[*********************100%%**********************]  1 of 1 completed\n",
      "[*********************100%%**********************]  1 of 1 completed\n",
      "[*********************100%%**********************]  1 of 1 completed\n",
      "[*********************100%%**********************]  1 of 1 completed\n",
      "[*********************100%%**********************]  1 of 1 completed\n",
      "[*********************100%%**********************]  1 of 1 completed\n",
      "[*********************100%%**********************]  1 of 1 completed\n"
     ]
    }
   ],
   "source": [
    "stocks_recent = download_stocks(stock_codes=stock_codes,start_date=start_date,end_date=end_date)"
   ]
  },
  {
   "cell_type": "code",
   "execution_count": 28,
   "id": "44471d1b-792b-4946-921b-9a5ff4d0cb1b",
   "metadata": {},
   "outputs": [
    {
     "data": {
      "text/html": [
       "<div>\n",
       "<style scoped>\n",
       "    .dataframe tbody tr th:only-of-type {\n",
       "        vertical-align: middle;\n",
       "    }\n",
       "\n",
       "    .dataframe tbody tr th {\n",
       "        vertical-align: top;\n",
       "    }\n",
       "\n",
       "    .dataframe thead th {\n",
       "        text-align: right;\n",
       "    }\n",
       "</style>\n",
       "<table border=\"1\" class=\"dataframe\">\n",
       "  <thead>\n",
       "    <tr style=\"text-align: right;\">\n",
       "      <th></th>\n",
       "      <th>Open</th>\n",
       "      <th>High</th>\n",
       "      <th>Low</th>\n",
       "      <th>Close</th>\n",
       "      <th>Adj Close</th>\n",
       "      <th>Volume</th>\n",
       "      <th>Stock</th>\n",
       "    </tr>\n",
       "    <tr>\n",
       "      <th>Date</th>\n",
       "      <th></th>\n",
       "      <th></th>\n",
       "      <th></th>\n",
       "      <th></th>\n",
       "      <th></th>\n",
       "      <th></th>\n",
       "      <th></th>\n",
       "    </tr>\n",
       "  </thead>\n",
       "  <tbody>\n",
       "    <tr>\n",
       "      <th>2024-04-01</th>\n",
       "      <td>2984.949951</td>\n",
       "      <td>2987.949951</td>\n",
       "      <td>2965.0</td>\n",
       "      <td>2969.550049</td>\n",
       "      <td>2969.550049</td>\n",
       "      <td>2506940</td>\n",
       "      <td>RELIANCE.NS</td>\n",
       "    </tr>\n",
       "  </tbody>\n",
       "</table>\n",
       "</div>"
      ],
      "text/plain": [
       "                   Open         High     Low        Close    Adj Close  \\\n",
       "Date                                                                     \n",
       "2024-04-01  2984.949951  2987.949951  2965.0  2969.550049  2969.550049   \n",
       "\n",
       "             Volume        Stock  \n",
       "Date                              \n",
       "2024-04-01  2506940  RELIANCE.NS  "
      ]
     },
     "execution_count": 28,
     "metadata": {},
     "output_type": "execute_result"
    }
   ],
   "source": [
    "stocks_recent['RELIANCE.NS']"
   ]
  },
  {
   "cell_type": "code",
   "execution_count": 25,
   "id": "608bf141-bfab-4173-832b-7a722f49e3f1",
   "metadata": {},
   "outputs": [],
   "source": [
    "all_stocks:list[pd.DataFrame] = []\n",
    "for stock_name,stock_df in stocks_recent.items():\n",
    "    stock_df[\"Stock\"] = stock_name\n",
    "    all_stocks.append(stock_df)"
   ]
  },
  {
   "cell_type": "code",
   "execution_count": 26,
   "id": "21f28277-f7b8-48be-ac70-e7d5c0adbf99",
   "metadata": {},
   "outputs": [
    {
     "data": {
      "text/html": [
       "<div>\n",
       "<style scoped>\n",
       "    .dataframe tbody tr th:only-of-type {\n",
       "        vertical-align: middle;\n",
       "    }\n",
       "\n",
       "    .dataframe tbody tr th {\n",
       "        vertical-align: top;\n",
       "    }\n",
       "\n",
       "    .dataframe thead th {\n",
       "        text-align: right;\n",
       "    }\n",
       "</style>\n",
       "<table border=\"1\" class=\"dataframe\">\n",
       "  <thead>\n",
       "    <tr style=\"text-align: right;\">\n",
       "      <th></th>\n",
       "      <th>Open</th>\n",
       "      <th>High</th>\n",
       "      <th>Low</th>\n",
       "      <th>Close</th>\n",
       "      <th>Adj Close</th>\n",
       "      <th>Volume</th>\n",
       "      <th>Stock</th>\n",
       "    </tr>\n",
       "    <tr>\n",
       "      <th>Date</th>\n",
       "      <th></th>\n",
       "      <th></th>\n",
       "      <th></th>\n",
       "      <th></th>\n",
       "      <th></th>\n",
       "      <th></th>\n",
       "      <th></th>\n",
       "    </tr>\n",
       "  </thead>\n",
       "  <tbody>\n",
       "    <tr>\n",
       "      <th>2024-04-01</th>\n",
       "      <td>2984.949951</td>\n",
       "      <td>2987.949951</td>\n",
       "      <td>2965.000000</td>\n",
       "      <td>2969.550049</td>\n",
       "      <td>2969.550049</td>\n",
       "      <td>2506940</td>\n",
       "      <td>RELIANCE.NS</td>\n",
       "    </tr>\n",
       "    <tr>\n",
       "      <th>2024-04-01</th>\n",
       "      <td>3897.699951</td>\n",
       "      <td>3933.300049</td>\n",
       "      <td>3888.050049</td>\n",
       "      <td>3916.750000</td>\n",
       "      <td>3916.750000</td>\n",
       "      <td>1569676</td>\n",
       "      <td>TCS.NS</td>\n",
       "    </tr>\n",
       "    <tr>\n",
       "      <th>2024-04-01</th>\n",
       "      <td>523.500000</td>\n",
       "      <td>530.599976</td>\n",
       "      <td>523.500000</td>\n",
       "      <td>529.150024</td>\n",
       "      <td>529.150024</td>\n",
       "      <td>847682</td>\n",
       "      <td>DABUR.NS</td>\n",
       "    </tr>\n",
       "    <tr>\n",
       "      <th>2024-04-01</th>\n",
       "      <td>1865.000000</td>\n",
       "      <td>1908.900024</td>\n",
       "      <td>1865.000000</td>\n",
       "      <td>1888.300049</td>\n",
       "      <td>1888.300049</td>\n",
       "      <td>573430</td>\n",
       "      <td>ADANIGREEN.NS</td>\n",
       "    </tr>\n",
       "    <tr>\n",
       "      <th>2024-04-01</th>\n",
       "      <td>375.000000</td>\n",
       "      <td>397.000000</td>\n",
       "      <td>375.000000</td>\n",
       "      <td>394.500000</td>\n",
       "      <td>394.500000</td>\n",
       "      <td>155824</td>\n",
       "      <td>SOLARA.NS</td>\n",
       "    </tr>\n",
       "    <tr>\n",
       "      <th>2024-04-01</th>\n",
       "      <td>1024.949951</td>\n",
       "      <td>1031.699951</td>\n",
       "      <td>996.500000</td>\n",
       "      <td>999.799988</td>\n",
       "      <td>999.799988</td>\n",
       "      <td>1230088</td>\n",
       "      <td>ZYDUSLIFE.NS</td>\n",
       "    </tr>\n",
       "    <tr>\n",
       "      <th>2024-04-01</th>\n",
       "      <td>1000.000000</td>\n",
       "      <td>1009.849976</td>\n",
       "      <td>987.450012</td>\n",
       "      <td>992.250000</td>\n",
       "      <td>992.250000</td>\n",
       "      <td>8629407</td>\n",
       "      <td>TATAMOTORS.NS</td>\n",
       "    </tr>\n",
       "    <tr>\n",
       "      <th>2024-04-01</th>\n",
       "      <td>1079.000000</td>\n",
       "      <td>1121.000000</td>\n",
       "      <td>1058.050049</td>\n",
       "      <td>1117.449951</td>\n",
       "      <td>1117.449951</td>\n",
       "      <td>560229</td>\n",
       "      <td>KPIL.NS</td>\n",
       "    </tr>\n",
       "  </tbody>\n",
       "</table>\n",
       "</div>"
      ],
      "text/plain": [
       "                   Open         High          Low        Close    Adj Close  \\\n",
       "Date                                                                          \n",
       "2024-04-01  2984.949951  2987.949951  2965.000000  2969.550049  2969.550049   \n",
       "2024-04-01  3897.699951  3933.300049  3888.050049  3916.750000  3916.750000   \n",
       "2024-04-01   523.500000   530.599976   523.500000   529.150024   529.150024   \n",
       "2024-04-01  1865.000000  1908.900024  1865.000000  1888.300049  1888.300049   \n",
       "2024-04-01   375.000000   397.000000   375.000000   394.500000   394.500000   \n",
       "2024-04-01  1024.949951  1031.699951   996.500000   999.799988   999.799988   \n",
       "2024-04-01  1000.000000  1009.849976   987.450012   992.250000   992.250000   \n",
       "2024-04-01  1079.000000  1121.000000  1058.050049  1117.449951  1117.449951   \n",
       "\n",
       "             Volume          Stock  \n",
       "Date                                \n",
       "2024-04-01  2506940    RELIANCE.NS  \n",
       "2024-04-01  1569676         TCS.NS  \n",
       "2024-04-01   847682       DABUR.NS  \n",
       "2024-04-01   573430  ADANIGREEN.NS  \n",
       "2024-04-01   155824      SOLARA.NS  \n",
       "2024-04-01  1230088   ZYDUSLIFE.NS  \n",
       "2024-04-01  8629407  TATAMOTORS.NS  \n",
       "2024-04-01   560229        KPIL.NS  "
      ]
     },
     "execution_count": 26,
     "metadata": {},
     "output_type": "execute_result"
    }
   ],
   "source": [
    "pd.concat(all_stocks)"
   ]
  },
  {
   "cell_type": "code",
   "execution_count": null,
   "id": "3b05fcd8-1198-4d03-8d39-d41bb74878fb",
   "metadata": {},
   "outputs": [],
   "source": [
    "# features_path = f\"features_{stock_name}.csv\"\n",
    "# target_path = f\"target_{stock_name}.csv\"\n",
    "# test_real_path = f\"features_{stock_name}_test.csv\"\n",
    "\n",
    "# X = pd.read_csv(features_path).set_index(\"Date\")\n",
    "# y = pd.read_csv(target_path).set_index(\"Date\")\n",
    "# test_real = pd.read_csv(test_real_path).set_index(\"Date\")\n",
    "# xgb =  build_model(X,y)\n",
    "# y_pred = xgb.predict(X)"
   ]
  },
  {
   "cell_type": "code",
   "execution_count": null,
   "id": "c8235ed6-50d4-43f9-9cd3-ab00c23d01e3",
   "metadata": {},
   "outputs": [],
   "source": [
    "test_target_path= f\"target_{stock_name}_test.csv\"\n",
    "y_actual = pd.read_csv(test_target_path).set_index(\"Date\")"
   ]
  },
  {
   "cell_type": "code",
   "execution_count": null,
   "id": "c47d869c-c185-4b7d-a50b-a25e97972204",
   "metadata": {},
   "outputs": [],
   "source": [
    "y_pred = forecast_df[\"forecast\"]"
   ]
  },
  {
   "cell_type": "code",
   "execution_count": null,
   "id": "60957dce-4b73-492b-8a00-a672a1ae18ae",
   "metadata": {},
   "outputs": [],
   "source": [
    "\n",
    "def plot_actual_vs_pred(y,y_pred,tail=10,pred_col=0):\n",
    "\n",
    "    if not isinstance(y_pred,pd.DataFrame):\n",
    "        y_pred = pd.DataFrame(y_pred)\n",
    "        y_pred.index = y.index\n",
    "    plot_df = pd.concat([y,y_pred],axis='columns')\n",
    "    plot_df = plot_df.rename(columns={'Close_next_1d':'Actual',pred_col:'Predicted',}).reset_index(names='Date').tail(tail)\n",
    "\n",
    "    # # Melt the DataFrame to long-format for easier plotting with Seaborn\n",
    "    # data_long = plot_df.melt(id_vars=['Date'],value_vars=['Actual', 'Predicted'], var_name='Type', value_name='Value')\n",
    "    \n",
    "    # # Plotting\n",
    "    # plt.figure(figsize=(10, 6))\n",
    "    # sns.lineplot(data=data_long, x=data_long.Date, y='Value', hue='Type', style='Type',\n",
    "    #              markers=True, dashes=True, alpha=0.8)  # Adjust transparency with the alpha parameter\n",
    "\n",
    "    # Plot the results\n",
    "    sns.lineplot(x=plot_df.index, y=plot_df['Actual'], label='Actual')\n",
    "    sns.lineplot(x=plot_df.index, y=plot_df['Predicted'], label='Forecast',dashes=True)\n",
    "    plt.legend()\n",
    "    \n",
    "    plt.title('Comparison of Actual and Predicted Values')\n",
    "    plt.xlabel('Date')\n",
    "    plt.ylabel('Value')\n",
    "    plt.legend(title='Type')\n",
    "    plt.show()"
   ]
  },
  {
   "cell_type": "code",
   "execution_count": null,
   "id": "d0f15e37-3ba3-4024-9466-2f4b432dc307",
   "metadata": {},
   "outputs": [],
   "source": [
    "plot_actual_vs_pred(y_actual,y_pred,tail=30,pred_col=\"forecast\")"
   ]
  },
  {
   "cell_type": "code",
   "execution_count": null,
   "id": "3f1de7d7-bc54-4a99-89e0-0b2f8750a9e5",
   "metadata": {},
   "outputs": [],
   "source": [
    "\n",
    "plt.plot(y.tail(10))\n",
    "plt.plot(y_pred[-10:])\n",
    "plt.show()"
   ]
  },
  {
   "cell_type": "code",
   "execution_count": null,
   "id": "38d93ec0-7a4d-4928-9217-ccdc43781a36",
   "metadata": {},
   "outputs": [],
   "source": [
    "imp = pd.DataFrame(xgb_model.feature_importances_,index=X.columns,columns=[\"imp_score\"]).sort_values(\"imp_score\",ascending=False)"
   ]
  },
  {
   "cell_type": "code",
   "execution_count": null,
   "id": "e0fda25d-997e-40ba-9a2f-2b33d80f9953",
   "metadata": {},
   "outputs": [],
   "source": [
    "xgb.plot_importance(xgb_model,importance_type='gain',max_num_features=20,height=0.5)"
   ]
  },
  {
   "cell_type": "code",
   "execution_count": null,
   "id": "504d2455-7fa6-40af-8b12-1c5e2352f7f5",
   "metadata": {},
   "outputs": [],
   "source": []
  }
 ],
 "metadata": {
  "kernelspec": {
   "display_name": "Python 3 (ipykernel)",
   "language": "python",
   "name": "python3"
  },
  "language_info": {
   "codemirror_mode": {
    "name": "ipython",
    "version": 3
   },
   "file_extension": ".py",
   "mimetype": "text/x-python",
   "name": "python",
   "nbconvert_exporter": "python",
   "pygments_lexer": "ipython3",
   "version": "3.9.6"
  }
 },
 "nbformat": 4,
 "nbformat_minor": 5
}

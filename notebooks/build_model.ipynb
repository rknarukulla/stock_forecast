{
 "cells": [
  {
   "cell_type": "code",
   "execution_count": 1,
   "id": "750bdd32-0838-484c-93f7-67dc63291782",
   "metadata": {},
   "outputs": [],
   "source": [
    "import pandas as pd\n",
    "import xgboost as xgb\n",
    "from sklearn.metrics import mean_squared_error\n",
    "import matplotlib.pyplot as plt\n",
    "import seaborn as sns\n",
    "from datetime import timedelta"
   ]
  },
  {
   "cell_type": "code",
   "execution_count": 2,
   "id": "abfd5a17-dbde-458f-a320-3bff48293a53",
   "metadata": {},
   "outputs": [],
   "source": [
    "import sys  \n",
    "sys.path.append( '..')"
   ]
  },
  {
   "cell_type": "code",
   "execution_count": 3,
   "id": "5ae6fca1-5919-468d-a145-1730268c4f8f",
   "metadata": {},
   "outputs": [
    {
     "name": "stderr",
     "output_type": "stream",
     "text": [
      "/Users/ravinarukulla/PycharmProjects/stock_forecast/venv/lib/python3.9/site-packages/urllib3/__init__.py:35: NotOpenSSLWarning: urllib3 v2 only supports OpenSSL 1.1.1+, currently the 'ssl' module is compiled with 'LibreSSL 2.8.3'. See: https://github.com/urllib3/urllib3/issues/3020\n",
      "  warnings.warn(\n"
     ]
    }
   ],
   "source": [
    "from src.stocks import build_model,build_n_forecast"
   ]
  },
  {
   "cell_type": "code",
   "execution_count": 4,
   "id": "042cca34-e3a2-4afa-947f-f8acb4c68ac7",
   "metadata": {},
   "outputs": [],
   "source": [
    "stock_names = [\"RELIANCE.NS\", \"TCS.NS\"]"
   ]
  },
  {
   "cell_type": "code",
   "execution_count": 5,
   "id": "f010f642-ff67-42a8-9695-9b370ec02729",
   "metadata": {},
   "outputs": [
    {
     "name": "stderr",
     "output_type": "stream",
     "text": [
      "/Users/ravinarukulla/PycharmProjects/stock_forecast/venv/lib/python3.9/site-packages/xgboost/core.py:160: UserWarning: [12:52:40] WARNING: /Users/runner/work/xgboost/xgboost/src/objective/regression_obj.cu:209: reg:linear is now deprecated in favor of reg:squarederror.\n",
      "  warnings.warn(smsg, UserWarning)\n"
     ]
    },
    {
     "name": "stdout",
     "output_type": "stream",
     "text": [
      "mean Square error in train data: 2.5974433930193793e-06\n"
     ]
    },
    {
     "name": "stderr",
     "output_type": "stream",
     "text": [
      "/Users/ravinarukulla/PycharmProjects/stock_forecast/venv/lib/python3.9/site-packages/xgboost/core.py:160: UserWarning: [12:52:41] WARNING: /Users/runner/work/xgboost/xgboost/src/objective/regression_obj.cu:209: reg:linear is now deprecated in favor of reg:squarederror.\n",
      "  warnings.warn(smsg, UserWarning)\n"
     ]
    },
    {
     "name": "stdout",
     "output_type": "stream",
     "text": [
      "mean Square error in train data: 1.0762058320592662e-05\n"
     ]
    }
   ],
   "source": [
    "forecast_df = build_n_forecast(stock_names)"
   ]
  },
  {
   "cell_type": "code",
   "execution_count": 6,
   "id": "662af456-d956-4f3f-9744-f1acb90ae867",
   "metadata": {},
   "outputs": [
    {
     "data": {
      "text/html": [
       "<div>\n",
       "<style scoped>\n",
       "    .dataframe tbody tr th:only-of-type {\n",
       "        vertical-align: middle;\n",
       "    }\n",
       "\n",
       "    .dataframe tbody tr th {\n",
       "        vertical-align: top;\n",
       "    }\n",
       "\n",
       "    .dataframe thead th {\n",
       "        text-align: right;\n",
       "    }\n",
       "</style>\n",
       "<table border=\"1\" class=\"dataframe\">\n",
       "  <thead>\n",
       "    <tr style=\"text-align: right;\">\n",
       "      <th></th>\n",
       "      <th>Date</th>\n",
       "      <th>forecast</th>\n",
       "      <th>Stock</th>\n",
       "      <th>Forecast_period</th>\n",
       "    </tr>\n",
       "  </thead>\n",
       "  <tbody>\n",
       "    <tr>\n",
       "      <th>0</th>\n",
       "      <td>2024-03-11</td>\n",
       "      <td>2966.885010</td>\n",
       "      <td>RELIANCE.NS</td>\n",
       "      <td>2024-03-12</td>\n",
       "    </tr>\n",
       "    <tr>\n",
       "      <th>0</th>\n",
       "      <td>2024-03-11</td>\n",
       "      <td>4113.288574</td>\n",
       "      <td>TCS.NS</td>\n",
       "      <td>2024-03-12</td>\n",
       "    </tr>\n",
       "  </tbody>\n",
       "</table>\n",
       "</div>"
      ],
      "text/plain": [
       "         Date     forecast        Stock Forecast_period\n",
       "0  2024-03-11  2966.885010  RELIANCE.NS      2024-03-12\n",
       "0  2024-03-11  4113.288574       TCS.NS      2024-03-12"
      ]
     },
     "execution_count": 6,
     "metadata": {},
     "output_type": "execute_result"
    }
   ],
   "source": [
    "forecast_df"
   ]
  },
  {
   "cell_type": "code",
   "execution_count": 7,
   "id": "b1abf74a-6f1e-40ae-9565-35c7e1ef7390",
   "metadata": {},
   "outputs": [],
   "source": [
    "stock_name= stock_names[0]"
   ]
  },
  {
   "cell_type": "code",
   "execution_count": null,
   "id": "3b05fcd8-1198-4d03-8d39-d41bb74878fb",
   "metadata": {},
   "outputs": [],
   "source": [
    "features_path = f\"features_{stock_name}.csv\"\n",
    "target_path = f\"target_{stock_name}.csv\"\n",
    "test_real_path = f\"features_{stock_name}_future.csv\"\n",
    "\n",
    "X = pd.read_csv(features_path).set_index(\"Date\")\n",
    "y = pd.read_csv(target_path).set_index(\"Date\")\n",
    "test_real = pd.read_csv(test_real_path).set_index(\"Date\")\n",
    "xgb =  build_model(X,y)\n",
    "y_pred = xgb.predict(X)\n"
   ]
  },
  {
   "cell_type": "code",
   "execution_count": null,
   "id": "60957dce-4b73-492b-8a00-a672a1ae18ae",
   "metadata": {},
   "outputs": [],
   "source": [
    "\n",
    "def plot_actual_vs_pred(y,y_pred,tail=10):\n",
    "\n",
    "    if not isinstance(y_pred,pd.DataFrame):\n",
    "        y_pred = pd.DataFrame(y_pred)\n",
    "        y_pred.index = y.index\n",
    "    plot_df = pd.concat([y,y_pred],axis='columns')\n",
    "    plot_df = plot_df.rename(columns={'Close_next_1d':'Actual',0:'Predicted'}).reset_index(names='Date').tail(tail)\n",
    "\n",
    "    # # Melt the DataFrame to long-format for easier plotting with Seaborn\n",
    "    # data_long = plot_df.melt(id_vars=['Date'],value_vars=['Actual', 'Predicted'], var_name='Type', value_name='Value')\n",
    "    \n",
    "    # # Plotting\n",
    "    # plt.figure(figsize=(10, 6))\n",
    "    # sns.lineplot(data=data_long, x=data_long.Date, y='Value', hue='Type', style='Type',\n",
    "    #              markers=True, dashes=True, alpha=0.8)  # Adjust transparency with the alpha parameter\n",
    "\n",
    "    # Plot the results\n",
    "    sns.lineplot(x=plot_df.index, y=plot_df['Actual'], label='Actual')\n",
    "    sns.lineplot(x=plot_df.index, y=plot_df['Predicted'], label='Forecast',dashes=True)\n",
    "    plt.legend()\n",
    "    \n",
    "    plt.title('Comparison of Actual and Predicted Values')\n",
    "    plt.xlabel('Date')\n",
    "    plt.ylabel('Value')\n",
    "    plt.legend(title='Type')\n",
    "    plt.show()"
   ]
  },
  {
   "cell_type": "code",
   "execution_count": null,
   "id": "d0f15e37-3ba3-4024-9466-2f4b432dc307",
   "metadata": {},
   "outputs": [],
   "source": [
    "plot_actual_vs_pred(y,y_pred,tail=30)"
   ]
  },
  {
   "cell_type": "code",
   "execution_count": null,
   "id": "be690c32-9345-4ce0-a13c-160f69b39bba",
   "metadata": {
    "scrolled": true
   },
   "outputs": [],
   "source": [
    "import matplotlib.pyplot as plt\n",
    "plt.plot(y.tail(10))\n",
    "plt.plot(y_pred[-10:])\n",
    "plt.show()"
   ]
  },
  {
   "cell_type": "code",
   "execution_count": null,
   "id": "3f1de7d7-bc54-4a99-89e0-0b2f8750a9e5",
   "metadata": {},
   "outputs": [],
   "source": [
    "\n",
    "plt.plot(y.tail(10))\n",
    "plt.plot(y_pred[-10:])\n",
    "plt.show()"
   ]
  },
  {
   "cell_type": "code",
   "execution_count": null,
   "id": "38d93ec0-7a4d-4928-9217-ccdc43781a36",
   "metadata": {},
   "outputs": [],
   "source": [
    "imp = pd.DataFrame(xgb_model.feature_importances_,index=X.columns,columns=[\"imp_score\"]).sort_values(\"imp_score\",ascending=False)"
   ]
  },
  {
   "cell_type": "code",
   "execution_count": null,
   "id": "e0fda25d-997e-40ba-9a2f-2b33d80f9953",
   "metadata": {},
   "outputs": [],
   "source": [
    "xgb.plot_importance(xgb_model,importance_type='gain',max_num_features=20,height=0.5)"
   ]
  },
  {
   "cell_type": "code",
   "execution_count": null,
   "id": "504d2455-7fa6-40af-8b12-1c5e2352f7f5",
   "metadata": {},
   "outputs": [],
   "source": []
  }
 ],
 "metadata": {
  "kernelspec": {
   "display_name": "Python 3 (ipykernel)",
   "language": "python",
   "name": "python3"
  },
  "language_info": {
   "codemirror_mode": {
    "name": "ipython",
    "version": 3
   },
   "file_extension": ".py",
   "mimetype": "text/x-python",
   "name": "python",
   "nbconvert_exporter": "python",
   "pygments_lexer": "ipython3",
   "version": "3.9.6"
  }
 },
 "nbformat": 4,
 "nbformat_minor": 5
}

{
 "cells": [
  {
   "cell_type": "code",
   "execution_count": 27,
   "id": "750bdd32-0838-484c-93f7-67dc63291782",
   "metadata": {},
   "outputs": [],
   "source": [
    "import pandas as pd\n",
    "import xgboost as xgb\n",
    "from sklearn.metrics import mean_squared_error\n",
    "import matplotlib.pyplot as plt\n",
    "import seaborn as sns\n",
    "import datetime as dt"
   ]
  },
  {
   "cell_type": "code",
   "execution_count": 9,
   "id": "abfd5a17-dbde-458f-a320-3bff48293a53",
   "metadata": {},
   "outputs": [],
   "source": [
    "import sys  \n",
    "sys.path.append( '..')"
   ]
  },
  {
   "cell_type": "code",
   "execution_count": 30,
   "id": "5ae6fca1-5919-468d-a145-1730268c4f8f",
   "metadata": {},
   "outputs": [],
   "source": [
    "from src.stocks import build_model,build_n_forecast,download_stocks"
   ]
  },
  {
   "cell_type": "markdown",
   "id": "4b67c127-769d-4e47-b9f4-db13b240b061",
   "metadata": {},
   "source": [
    "## Build and forecast"
   ]
  },
  {
   "cell_type": "code",
   "execution_count": 13,
   "id": "042cca34-e3a2-4afa-947f-f8acb4c68ac7",
   "metadata": {},
   "outputs": [],
   "source": [
    "stock_names = [\"RELIANCE.NS\", \"TCS.NS\"]"
   ]
  },
  {
   "cell_type": "code",
   "execution_count": 20,
   "id": "f010f642-ff67-42a8-9695-9b370ec02729",
   "metadata": {},
   "outputs": [
    {
     "name": "stdout",
     "output_type": "stream",
     "text": [
      "Building model for  RELIANCE.NS\n",
      "[0]\ttrain-rmse:40.06310\ttest-rmse:49.51966\n",
      "[1]\ttrain-rmse:30.37968\ttest-rmse:49.49365\n",
      "[2]\ttrain-rmse:26.75290\ttest-rmse:49.22599\n",
      "[3]\ttrain-rmse:22.13060\ttest-rmse:44.42325\n",
      "[4]\ttrain-rmse:20.48210\ttest-rmse:44.14996\n",
      "[5]\ttrain-rmse:18.97614\ttest-rmse:41.89751\n",
      "[6]\ttrain-rmse:17.52861\ttest-rmse:44.74645\n",
      "[7]\ttrain-rmse:14.94910\ttest-rmse:43.07342\n",
      "[8]\ttrain-rmse:13.22281\ttest-rmse:41.88572\n",
      "[9]\ttrain-rmse:11.88131\ttest-rmse:42.82620\n",
      "Building model for  TCS.NS\n",
      "[0]\ttrain-rmse:48.40441\ttest-rmse:154.17761\n",
      "[1]\ttrain-rmse:38.79140\ttest-rmse:151.84895\n",
      "[2]\ttrain-rmse:33.18933\ttest-rmse:141.90390\n",
      "[3]\ttrain-rmse:29.35647\ttest-rmse:139.33796\n",
      "[4]\ttrain-rmse:27.05197\ttest-rmse:134.20681\n",
      "[5]\ttrain-rmse:24.66622\ttest-rmse:134.17119\n",
      "[6]\ttrain-rmse:23.14757\ttest-rmse:141.22388\n",
      "[7]\ttrain-rmse:20.27705\ttest-rmse:134.46102\n",
      "[8]\ttrain-rmse:19.37699\ttest-rmse:131.80641\n",
      "[9]\ttrain-rmse:17.11565\ttest-rmse:133.24761\n"
     ]
    },
    {
     "name": "stderr",
     "output_type": "stream",
     "text": [
      "/Users/ravinarukulla/PycharmProjects/stock_forecast/venv/lib/python3.9/site-packages/xgboost/core.py:160: UserWarning: [11:53:12] WARNING: /Users/runner/work/xgboost/xgboost/src/learner.cc:742: \n",
      "Parameters: { \"n_estimators\" } are not used.\n",
      "\n",
      "  warnings.warn(smsg, UserWarning)\n",
      "/Users/ravinarukulla/PycharmProjects/stock_forecast/venv/lib/python3.9/site-packages/xgboost/core.py:160: UserWarning: [11:53:12] WARNING: /Users/runner/work/xgboost/xgboost/src/learner.cc:742: \n",
      "Parameters: { \"n_estimators\" } are not used.\n",
      "\n",
      "  warnings.warn(smsg, UserWarning)\n"
     ]
    }
   ],
   "source": [
    "forecast_df = build_n_forecast(stock_names,validation_days=10)"
   ]
  },
  {
   "cell_type": "code",
   "execution_count": 21,
   "id": "662af456-d956-4f3f-9744-f1acb90ae867",
   "metadata": {},
   "outputs": [
    {
     "data": {
      "text/html": [
       "<div>\n",
       "<style scoped>\n",
       "    .dataframe tbody tr th:only-of-type {\n",
       "        vertical-align: middle;\n",
       "    }\n",
       "\n",
       "    .dataframe tbody tr th {\n",
       "        vertical-align: top;\n",
       "    }\n",
       "\n",
       "    .dataframe thead th {\n",
       "        text-align: right;\n",
       "    }\n",
       "</style>\n",
       "<table border=\"1\" class=\"dataframe\">\n",
       "  <thead>\n",
       "    <tr style=\"text-align: right;\">\n",
       "      <th></th>\n",
       "      <th>Date</th>\n",
       "      <th>forecast</th>\n",
       "      <th>Stock</th>\n",
       "      <th>Forecast_period</th>\n",
       "    </tr>\n",
       "  </thead>\n",
       "  <tbody>\n",
       "    <tr>\n",
       "      <th>0</th>\n",
       "      <td>2024-04-01</td>\n",
       "      <td>2900.026855</td>\n",
       "      <td>RELIANCE.NS</td>\n",
       "      <td>2024-04-02</td>\n",
       "    </tr>\n",
       "    <tr>\n",
       "      <th>0</th>\n",
       "      <td>2024-04-01</td>\n",
       "      <td>4022.443359</td>\n",
       "      <td>TCS.NS</td>\n",
       "      <td>2024-04-02</td>\n",
       "    </tr>\n",
       "  </tbody>\n",
       "</table>\n",
       "</div>"
      ],
      "text/plain": [
       "         Date     forecast        Stock Forecast_period\n",
       "0  2024-04-01  2900.026855  RELIANCE.NS      2024-04-02\n",
       "0  2024-04-01  4022.443359       TCS.NS      2024-04-02"
      ]
     },
     "execution_count": 21,
     "metadata": {},
     "output_type": "execute_result"
    }
   ],
   "source": [
    "forecast_df"
   ]
  },
  {
   "cell_type": "code",
   "execution_count": 25,
   "id": "19c9c191-ce51-4f34-afca-c2914c2a97cd",
   "metadata": {},
   "outputs": [
    {
     "data": {
      "text/plain": [
       "Timestamp('2024-04-01 00:00:00')"
      ]
     },
     "execution_count": 25,
     "metadata": {},
     "output_type": "execute_result"
    }
   ],
   "source": [
    "pd.to_datetime(forecast_df.Date).min()"
   ]
  },
  {
   "cell_type": "markdown",
   "id": "004cba2f-38ce-4bf0-add2-a0ebde477f31",
   "metadata": {},
   "source": [
    "## Get stock for validation"
   ]
  },
  {
   "cell_type": "code",
   "execution_count": 36,
   "id": "a9fd9994-7da2-469d-9b67-d0d5c9862720",
   "metadata": {},
   "outputs": [
    {
     "data": {
      "text/plain": [
       "(Timestamp('2024-03-28 00:00:00'), Timestamp('2024-04-01 00:00:00'))"
      ]
     },
     "execution_count": 36,
     "metadata": {},
     "output_type": "execute_result"
    }
   ],
   "source": [
    "# Define the stock codes you are interested in\n",
    "stock_codes = [\"RELIANCE.NS\",\"TCS.NS\",\"DABUR.NS\",\"ADANIGREEN.NS\",\"SOLARA.NS\",\"ZYDUSLIFE.NS\",\"TATAMOTORS.NS\",\"KPIL.NS\"]\n",
    "\n",
    "# end_date = datetime.now() - timedelta(days=1)\n",
    "end_date= pd.to_datetime(forecast_df.Date).min()\n",
    "\n",
    "start_date = end_date - dt.timedelta(days=4)\n",
    "start_date, end_date"
   ]
  },
  {
   "cell_type": "code",
   "execution_count": 55,
   "id": "39574e76-20ee-4dd6-a0ff-53eb0eebede9",
   "metadata": {},
   "outputs": [
    {
     "name": "stderr",
     "output_type": "stream",
     "text": [
      "[*********************100%%**********************]  1 of 1 completed\n",
      "[*********************100%%**********************]  1 of 1 completed\n",
      "[*********************100%%**********************]  1 of 1 completed\n",
      "[*********************100%%**********************]  1 of 1 completed\n",
      "[*********************100%%**********************]  1 of 1 completed\n",
      "[*********************100%%**********************]  1 of 1 completed\n",
      "[*********************100%%**********************]  1 of 1 completed\n",
      "[*********************100%%**********************]  1 of 1 completed\n"
     ]
    }
   ],
   "source": [
    "stocks_recent = download_stocks(stock_codes=stock_codes,start_date=start_date,end_date=end_date)"
   ]
  },
  {
   "cell_type": "code",
   "execution_count": 56,
   "id": "608bf141-bfab-4173-832b-7a722f49e3f1",
   "metadata": {},
   "outputs": [],
   "source": [
    "all_stocks:list[pd.DataFrame] = []\n",
    "for stock_name,stock_df in stocks_recent.items():\n",
    "    stock_df[\"Stock\"] = stock_name\n",
    "    all_stocks.append(stock_df)"
   ]
  },
  {
   "cell_type": "code",
   "execution_count": 57,
   "id": "21f28277-f7b8-48be-ac70-e7d5c0adbf99",
   "metadata": {},
   "outputs": [
    {
     "data": {
      "text/html": [
       "<div>\n",
       "<style scoped>\n",
       "    .dataframe tbody tr th:only-of-type {\n",
       "        vertical-align: middle;\n",
       "    }\n",
       "\n",
       "    .dataframe tbody tr th {\n",
       "        vertical-align: top;\n",
       "    }\n",
       "\n",
       "    .dataframe thead th {\n",
       "        text-align: right;\n",
       "    }\n",
       "</style>\n",
       "<table border=\"1\" class=\"dataframe\">\n",
       "  <thead>\n",
       "    <tr style=\"text-align: right;\">\n",
       "      <th></th>\n",
       "      <th>Open</th>\n",
       "      <th>High</th>\n",
       "      <th>Low</th>\n",
       "      <th>Close</th>\n",
       "      <th>Adj Close</th>\n",
       "      <th>Volume</th>\n",
       "      <th>Stock</th>\n",
       "    </tr>\n",
       "    <tr>\n",
       "      <th>Date</th>\n",
       "      <th></th>\n",
       "      <th></th>\n",
       "      <th></th>\n",
       "      <th></th>\n",
       "      <th></th>\n",
       "      <th></th>\n",
       "      <th></th>\n",
       "    </tr>\n",
       "  </thead>\n",
       "  <tbody>\n",
       "    <tr>\n",
       "      <th>2024-03-28</th>\n",
       "      <td>2985.750000</td>\n",
       "      <td>3011.899902</td>\n",
       "      <td>2957.300049</td>\n",
       "      <td>2971.699951</td>\n",
       "      <td>2971.699951</td>\n",
       "      <td>10927182</td>\n",
       "      <td>RELIANCE.NS</td>\n",
       "    </tr>\n",
       "    <tr>\n",
       "      <th>2024-03-28</th>\n",
       "      <td>3850.100098</td>\n",
       "      <td>3915.000000</td>\n",
       "      <td>3840.500000</td>\n",
       "      <td>3876.300049</td>\n",
       "      <td>3876.300049</td>\n",
       "      <td>4311783</td>\n",
       "      <td>TCS.NS</td>\n",
       "    </tr>\n",
       "    <tr>\n",
       "      <th>2024-03-28</th>\n",
       "      <td>522.000000</td>\n",
       "      <td>526.000000</td>\n",
       "      <td>517.750000</td>\n",
       "      <td>523.150024</td>\n",
       "      <td>523.150024</td>\n",
       "      <td>2312982</td>\n",
       "      <td>DABUR.NS</td>\n",
       "    </tr>\n",
       "    <tr>\n",
       "      <th>2024-03-28</th>\n",
       "      <td>1832.550049</td>\n",
       "      <td>1863.000000</td>\n",
       "      <td>1820.000000</td>\n",
       "      <td>1835.150024</td>\n",
       "      <td>1835.150024</td>\n",
       "      <td>605145</td>\n",
       "      <td>ADANIGREEN.NS</td>\n",
       "    </tr>\n",
       "    <tr>\n",
       "      <th>2024-03-28</th>\n",
       "      <td>382.000000</td>\n",
       "      <td>392.000000</td>\n",
       "      <td>370.000000</td>\n",
       "      <td>370.950012</td>\n",
       "      <td>370.950012</td>\n",
       "      <td>169206</td>\n",
       "      <td>SOLARA.NS</td>\n",
       "    </tr>\n",
       "    <tr>\n",
       "      <th>2024-03-28</th>\n",
       "      <td>993.000000</td>\n",
       "      <td>1021.000000</td>\n",
       "      <td>985.000000</td>\n",
       "      <td>1007.349976</td>\n",
       "      <td>1007.349976</td>\n",
       "      <td>1873843</td>\n",
       "      <td>ZYDUSLIFE.NS</td>\n",
       "    </tr>\n",
       "    <tr>\n",
       "      <th>2024-03-28</th>\n",
       "      <td>982.500000</td>\n",
       "      <td>999.900024</td>\n",
       "      <td>979.000000</td>\n",
       "      <td>992.799988</td>\n",
       "      <td>992.799988</td>\n",
       "      <td>9862996</td>\n",
       "      <td>TATAMOTORS.NS</td>\n",
       "    </tr>\n",
       "    <tr>\n",
       "      <th>2024-03-28</th>\n",
       "      <td>1094.000000</td>\n",
       "      <td>1099.000000</td>\n",
       "      <td>1058.900024</td>\n",
       "      <td>1069.849976</td>\n",
       "      <td>1069.849976</td>\n",
       "      <td>265117</td>\n",
       "      <td>KPIL.NS</td>\n",
       "    </tr>\n",
       "  </tbody>\n",
       "</table>\n",
       "</div>"
      ],
      "text/plain": [
       "                   Open         High          Low        Close    Adj Close  \\\n",
       "Date                                                                          \n",
       "2024-03-28  2985.750000  3011.899902  2957.300049  2971.699951  2971.699951   \n",
       "2024-03-28  3850.100098  3915.000000  3840.500000  3876.300049  3876.300049   \n",
       "2024-03-28   522.000000   526.000000   517.750000   523.150024   523.150024   \n",
       "2024-03-28  1832.550049  1863.000000  1820.000000  1835.150024  1835.150024   \n",
       "2024-03-28   382.000000   392.000000   370.000000   370.950012   370.950012   \n",
       "2024-03-28   993.000000  1021.000000   985.000000  1007.349976  1007.349976   \n",
       "2024-03-28   982.500000   999.900024   979.000000   992.799988   992.799988   \n",
       "2024-03-28  1094.000000  1099.000000  1058.900024  1069.849976  1069.849976   \n",
       "\n",
       "              Volume          Stock  \n",
       "Date                                 \n",
       "2024-03-28  10927182    RELIANCE.NS  \n",
       "2024-03-28   4311783         TCS.NS  \n",
       "2024-03-28   2312982       DABUR.NS  \n",
       "2024-03-28    605145  ADANIGREEN.NS  \n",
       "2024-03-28    169206      SOLARA.NS  \n",
       "2024-03-28   1873843   ZYDUSLIFE.NS  \n",
       "2024-03-28   9862996  TATAMOTORS.NS  \n",
       "2024-03-28    265117        KPIL.NS  "
      ]
     },
     "execution_count": 57,
     "metadata": {},
     "output_type": "execute_result"
    }
   ],
   "source": [
    "pd.concat(all_stocks)"
   ]
  },
  {
   "cell_type": "code",
   "execution_count": 7,
   "id": "3b05fcd8-1198-4d03-8d39-d41bb74878fb",
   "metadata": {},
   "outputs": [],
   "source": [
    "# features_path = f\"features_{stock_name}.csv\"\n",
    "# target_path = f\"target_{stock_name}.csv\"\n",
    "# test_real_path = f\"features_{stock_name}_test.csv\"\n",
    "\n",
    "# X = pd.read_csv(features_path).set_index(\"Date\")\n",
    "# y = pd.read_csv(target_path).set_index(\"Date\")\n",
    "# test_real = pd.read_csv(test_real_path).set_index(\"Date\")\n",
    "# xgb =  build_model(X,y)\n",
    "# y_pred = xgb.predict(X)"
   ]
  },
  {
   "cell_type": "code",
   "execution_count": 16,
   "id": "c8235ed6-50d4-43f9-9cd3-ab00c23d01e3",
   "metadata": {},
   "outputs": [
    {
     "ename": "NameError",
     "evalue": "name 'stock_name' is not defined",
     "output_type": "error",
     "traceback": [
      "\u001b[0;31m---------------------------------------------------------------------------\u001b[0m",
      "\u001b[0;31mNameError\u001b[0m                                 Traceback (most recent call last)",
      "Cell \u001b[0;32mIn[16], line 1\u001b[0m\n\u001b[0;32m----> 1\u001b[0m test_target_path\u001b[38;5;241m=\u001b[39m \u001b[38;5;124mf\u001b[39m\u001b[38;5;124m\"\u001b[39m\u001b[38;5;124mtarget_\u001b[39m\u001b[38;5;132;01m{\u001b[39;00mstock_name\u001b[38;5;132;01m}\u001b[39;00m\u001b[38;5;124m_test.csv\u001b[39m\u001b[38;5;124m\"\u001b[39m\n\u001b[1;32m      2\u001b[0m y_actual \u001b[38;5;241m=\u001b[39m pd\u001b[38;5;241m.\u001b[39mread_csv(test_target_path)\u001b[38;5;241m.\u001b[39mset_index(\u001b[38;5;124m\"\u001b[39m\u001b[38;5;124mDate\u001b[39m\u001b[38;5;124m\"\u001b[39m)\n",
      "\u001b[0;31mNameError\u001b[0m: name 'stock_name' is not defined"
     ]
    }
   ],
   "source": [
    "test_target_path= f\"target_{stock_name}_test.csv\"\n",
    "y_actual = pd.read_csv(test_target_path).set_index(\"Date\")"
   ]
  },
  {
   "cell_type": "code",
   "execution_count": 17,
   "id": "c47d869c-c185-4b7d-a50b-a25e97972204",
   "metadata": {},
   "outputs": [],
   "source": [
    "y_pred = forecast_df[\"forecast\"]"
   ]
  },
  {
   "cell_type": "code",
   "execution_count": 18,
   "id": "60957dce-4b73-492b-8a00-a672a1ae18ae",
   "metadata": {},
   "outputs": [],
   "source": [
    "\n",
    "def plot_actual_vs_pred(y,y_pred,tail=10,pred_col=0):\n",
    "\n",
    "    if not isinstance(y_pred,pd.DataFrame):\n",
    "        y_pred = pd.DataFrame(y_pred)\n",
    "        y_pred.index = y.index\n",
    "    plot_df = pd.concat([y,y_pred],axis='columns')\n",
    "    plot_df = plot_df.rename(columns={'Close_next_1d':'Actual',pred_col:'Predicted',}).reset_index(names='Date').tail(tail)\n",
    "\n",
    "    # # Melt the DataFrame to long-format for easier plotting with Seaborn\n",
    "    # data_long = plot_df.melt(id_vars=['Date'],value_vars=['Actual', 'Predicted'], var_name='Type', value_name='Value')\n",
    "    \n",
    "    # # Plotting\n",
    "    # plt.figure(figsize=(10, 6))\n",
    "    # sns.lineplot(data=data_long, x=data_long.Date, y='Value', hue='Type', style='Type',\n",
    "    #              markers=True, dashes=True, alpha=0.8)  # Adjust transparency with the alpha parameter\n",
    "\n",
    "    # Plot the results\n",
    "    sns.lineplot(x=plot_df.index, y=plot_df['Actual'], label='Actual')\n",
    "    sns.lineplot(x=plot_df.index, y=plot_df['Predicted'], label='Forecast',dashes=True)\n",
    "    plt.legend()\n",
    "    \n",
    "    plt.title('Comparison of Actual and Predicted Values')\n",
    "    plt.xlabel('Date')\n",
    "    plt.ylabel('Value')\n",
    "    plt.legend(title='Type')\n",
    "    plt.show()"
   ]
  },
  {
   "cell_type": "code",
   "execution_count": null,
   "id": "d0f15e37-3ba3-4024-9466-2f4b432dc307",
   "metadata": {},
   "outputs": [],
   "source": [
    "plot_actual_vs_pred(y_actual,y_pred,tail=30,pred_col=\"forecast\")"
   ]
  },
  {
   "cell_type": "code",
   "execution_count": null,
   "id": "3f1de7d7-bc54-4a99-89e0-0b2f8750a9e5",
   "metadata": {},
   "outputs": [],
   "source": [
    "\n",
    "plt.plot(y.tail(10))\n",
    "plt.plot(y_pred[-10:])\n",
    "plt.show()"
   ]
  },
  {
   "cell_type": "code",
   "execution_count": null,
   "id": "38d93ec0-7a4d-4928-9217-ccdc43781a36",
   "metadata": {},
   "outputs": [],
   "source": [
    "imp = pd.DataFrame(xgb_model.feature_importances_,index=X.columns,columns=[\"imp_score\"]).sort_values(\"imp_score\",ascending=False)"
   ]
  },
  {
   "cell_type": "code",
   "execution_count": null,
   "id": "e0fda25d-997e-40ba-9a2f-2b33d80f9953",
   "metadata": {},
   "outputs": [],
   "source": [
    "xgb.plot_importance(xgb_model,importance_type='gain',max_num_features=20,height=0.5)"
   ]
  },
  {
   "cell_type": "code",
   "execution_count": null,
   "id": "504d2455-7fa6-40af-8b12-1c5e2352f7f5",
   "metadata": {},
   "outputs": [],
   "source": []
  }
 ],
 "metadata": {
  "kernelspec": {
   "display_name": "Python 3 (ipykernel)",
   "language": "python",
   "name": "python3"
  },
  "language_info": {
   "codemirror_mode": {
    "name": "ipython",
    "version": 3
   },
   "file_extension": ".py",
   "mimetype": "text/x-python",
   "name": "python",
   "nbconvert_exporter": "python",
   "pygments_lexer": "ipython3",
   "version": "3.9.6"
  }
 },
 "nbformat": 4,
 "nbformat_minor": 5
}

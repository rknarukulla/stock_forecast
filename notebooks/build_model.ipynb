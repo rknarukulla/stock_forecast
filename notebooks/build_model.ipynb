{
 "cells": [
  {
   "cell_type": "code",
   "execution_count": 1,
   "id": "750bdd32-0838-484c-93f7-67dc63291782",
   "metadata": {},
   "outputs": [],
   "source": [
    "import pandas as pd\n",
    "import xgboost as xgb\n",
    "from sklearn.metrics import mean_squared_error\n",
    "import matplotlib.pyplot as plt\n",
    "import seaborn as sns\n",
    "from datetime import timedelta"
   ]
  },
  {
   "cell_type": "code",
   "execution_count": 2,
   "id": "abfd5a17-dbde-458f-a320-3bff48293a53",
   "metadata": {},
   "outputs": [],
   "source": [
    "import sys  \n",
    "sys.path.append( '..')"
   ]
  },
  {
   "cell_type": "code",
   "execution_count": 3,
   "id": "5ae6fca1-5919-468d-a145-1730268c4f8f",
   "metadata": {},
   "outputs": [
    {
     "name": "stderr",
     "output_type": "stream",
     "text": [
      "/Users/ravinarukulla/PycharmProjects/stock_forecast/venv/lib/python3.9/site-packages/urllib3/__init__.py:35: NotOpenSSLWarning: urllib3 v2 only supports OpenSSL 1.1.1+, currently the 'ssl' module is compiled with 'LibreSSL 2.8.3'. See: https://github.com/urllib3/urllib3/issues/3020\n",
      "  warnings.warn(\n"
     ]
    }
   ],
   "source": [
    "from src.stocks import build_model,build_n_forecast"
   ]
  },
  {
   "cell_type": "code",
   "execution_count": 31,
   "id": "042cca34-e3a2-4afa-947f-f8acb4c68ac7",
   "metadata": {},
   "outputs": [],
   "source": [
    "stock_names = [\"RELIANCE.NS\"] #, \"TCS.NS\"]"
   ]
  },
  {
   "cell_type": "code",
   "execution_count": 32,
   "id": "f010f642-ff67-42a8-9695-9b370ec02729",
   "metadata": {},
   "outputs": [
    {
     "name": "stdout",
     "output_type": "stream",
     "text": [
      "Building model for  RELIANCE.NS\n"
     ]
    },
    {
     "name": "stderr",
     "output_type": "stream",
     "text": [
      "/Users/ravinarukulla/PycharmProjects/stock_forecast/venv/lib/python3.9/site-packages/xgboost/core.py:160: UserWarning: [13:51:38] WARNING: /Users/runner/work/xgboost/xgboost/src/objective/regression_obj.cu:209: reg:linear is now deprecated in favor of reg:squarederror.\n",
      "  warnings.warn(smsg, UserWarning)\n"
     ]
    },
    {
     "name": "stdout",
     "output_type": "stream",
     "text": [
      "mean Square error in train data: 1.863083418677835e-06\n"
     ]
    }
   ],
   "source": [
    "forecast_df = build_n_forecast(stock_names)"
   ]
  },
  {
   "cell_type": "code",
   "execution_count": 33,
   "id": "662af456-d956-4f3f-9744-f1acb90ae867",
   "metadata": {},
   "outputs": [
    {
     "data": {
      "text/html": [
       "<div>\n",
       "<style scoped>\n",
       "    .dataframe tbody tr th:only-of-type {\n",
       "        vertical-align: middle;\n",
       "    }\n",
       "\n",
       "    .dataframe tbody tr th {\n",
       "        vertical-align: top;\n",
       "    }\n",
       "\n",
       "    .dataframe thead th {\n",
       "        text-align: right;\n",
       "    }\n",
       "</style>\n",
       "<table border=\"1\" class=\"dataframe\">\n",
       "  <thead>\n",
       "    <tr style=\"text-align: right;\">\n",
       "      <th></th>\n",
       "      <th>Date</th>\n",
       "      <th>forecast</th>\n",
       "      <th>Stock</th>\n",
       "      <th>Forecast_period</th>\n",
       "    </tr>\n",
       "  </thead>\n",
       "  <tbody>\n",
       "    <tr>\n",
       "      <th>0</th>\n",
       "      <td>2024-02-29</td>\n",
       "      <td>2941.527100</td>\n",
       "      <td>RELIANCE.NS</td>\n",
       "      <td>2024-03-01</td>\n",
       "    </tr>\n",
       "    <tr>\n",
       "      <th>1</th>\n",
       "      <td>2024-03-01</td>\n",
       "      <td>2932.448975</td>\n",
       "      <td>RELIANCE.NS</td>\n",
       "      <td>2024-03-02</td>\n",
       "    </tr>\n",
       "    <tr>\n",
       "      <th>2</th>\n",
       "      <td>2024-03-04</td>\n",
       "      <td>2959.322021</td>\n",
       "      <td>RELIANCE.NS</td>\n",
       "      <td>2024-03-05</td>\n",
       "    </tr>\n",
       "    <tr>\n",
       "      <th>3</th>\n",
       "      <td>2024-03-05</td>\n",
       "      <td>2949.711670</td>\n",
       "      <td>RELIANCE.NS</td>\n",
       "      <td>2024-03-06</td>\n",
       "    </tr>\n",
       "    <tr>\n",
       "      <th>4</th>\n",
       "      <td>2024-03-06</td>\n",
       "      <td>2950.224365</td>\n",
       "      <td>RELIANCE.NS</td>\n",
       "      <td>2024-03-07</td>\n",
       "    </tr>\n",
       "    <tr>\n",
       "      <th>5</th>\n",
       "      <td>2024-03-07</td>\n",
       "      <td>2927.518311</td>\n",
       "      <td>RELIANCE.NS</td>\n",
       "      <td>2024-03-08</td>\n",
       "    </tr>\n",
       "    <tr>\n",
       "      <th>6</th>\n",
       "      <td>2024-03-11</td>\n",
       "      <td>2922.198242</td>\n",
       "      <td>RELIANCE.NS</td>\n",
       "      <td>2024-03-12</td>\n",
       "    </tr>\n",
       "  </tbody>\n",
       "</table>\n",
       "</div>"
      ],
      "text/plain": [
       "         Date     forecast        Stock Forecast_period\n",
       "0  2024-02-29  2941.527100  RELIANCE.NS      2024-03-01\n",
       "1  2024-03-01  2932.448975  RELIANCE.NS      2024-03-02\n",
       "2  2024-03-04  2959.322021  RELIANCE.NS      2024-03-05\n",
       "3  2024-03-05  2949.711670  RELIANCE.NS      2024-03-06\n",
       "4  2024-03-06  2950.224365  RELIANCE.NS      2024-03-07\n",
       "5  2024-03-07  2927.518311  RELIANCE.NS      2024-03-08\n",
       "6  2024-03-11  2922.198242  RELIANCE.NS      2024-03-12"
      ]
     },
     "execution_count": 33,
     "metadata": {},
     "output_type": "execute_result"
    }
   ],
   "source": [
    "forecast_df"
   ]
  },
  {
   "cell_type": "code",
   "execution_count": 34,
   "id": "3b05fcd8-1198-4d03-8d39-d41bb74878fb",
   "metadata": {},
   "outputs": [],
   "source": [
    "# features_path = f\"features_{stock_name}.csv\"\n",
    "# target_path = f\"target_{stock_name}.csv\"\n",
    "# test_real_path = f\"features_{stock_name}_test.csv\"\n",
    "\n",
    "# X = pd.read_csv(features_path).set_index(\"Date\")\n",
    "# y = pd.read_csv(target_path).set_index(\"Date\")\n",
    "# test_real = pd.read_csv(test_real_path).set_index(\"Date\")\n",
    "# xgb =  build_model(X,y)\n",
    "# y_pred = xgb.predict(X)"
   ]
  },
  {
   "cell_type": "code",
   "execution_count": 35,
   "id": "c8235ed6-50d4-43f9-9cd3-ab00c23d01e3",
   "metadata": {},
   "outputs": [],
   "source": [
    "test_target_path= f\"target_{stock_name}_test.csv\"\n",
    "y_actual = pd.read_csv(test_target_path).set_index(\"Date\")"
   ]
  },
  {
   "cell_type": "code",
   "execution_count": 36,
   "id": "c47d869c-c185-4b7d-a50b-a25e97972204",
   "metadata": {},
   "outputs": [],
   "source": [
    "y_pred = forecast_df[\"forecast\"]"
   ]
  },
  {
   "cell_type": "code",
   "execution_count": 42,
   "id": "60957dce-4b73-492b-8a00-a672a1ae18ae",
   "metadata": {},
   "outputs": [],
   "source": [
    "\n",
    "def plot_actual_vs_pred(y,y_pred,tail=10,pred_col=0):\n",
    "\n",
    "    if not isinstance(y_pred,pd.DataFrame):\n",
    "        y_pred = pd.DataFrame(y_pred)\n",
    "        y_pred.index = y.index\n",
    "    plot_df = pd.concat([y,y_pred],axis='columns')\n",
    "    plot_df = plot_df.rename(columns={'Close_next_1d':'Actual',pred_col:'Predicted',}).reset_index(names='Date').tail(tail)\n",
    "\n",
    "    # # Melt the DataFrame to long-format for easier plotting with Seaborn\n",
    "    # data_long = plot_df.melt(id_vars=['Date'],value_vars=['Actual', 'Predicted'], var_name='Type', value_name='Value')\n",
    "    \n",
    "    # # Plotting\n",
    "    # plt.figure(figsize=(10, 6))\n",
    "    # sns.lineplot(data=data_long, x=data_long.Date, y='Value', hue='Type', style='Type',\n",
    "    #              markers=True, dashes=True, alpha=0.8)  # Adjust transparency with the alpha parameter\n",
    "\n",
    "    # Plot the results\n",
    "    sns.lineplot(x=plot_df.index, y=plot_df['Actual'], label='Actual')\n",
    "    sns.lineplot(x=plot_df.index, y=plot_df['Predicted'], label='Forecast',dashes=True)\n",
    "    plt.legend()\n",
    "    \n",
    "    plt.title('Comparison of Actual and Predicted Values')\n",
    "    plt.xlabel('Date')\n",
    "    plt.ylabel('Value')\n",
    "    plt.legend(title='Type')\n",
    "    plt.show()"
   ]
  },
  {
   "cell_type": "code",
   "execution_count": 43,
   "id": "d0f15e37-3ba3-4024-9466-2f4b432dc307",
   "metadata": {},
   "outputs": [
    {
     "data": {
      "image/png": "[encoded data removed]",
      "text/plain": [
       "<Figure size 640x480 with 1 Axes>"
      ]
     },
     "metadata": {},
     "output_type": "display_data"
    }
   ],
   "source": [
    "plot_actual_vs_pred(y_actual,y_pred,tail=30,pred_col=\"forecast\")"
   ]
  },
  {
   "cell_type": "code",
   "execution_count": null,
   "id": "3f1de7d7-bc54-4a99-89e0-0b2f8750a9e5",
   "metadata": {},
   "outputs": [],
   "source": [
    "\n",
    "plt.plot(y.tail(10))\n",
    "plt.plot(y_pred[-10:])\n",
    "plt.show()"
   ]
  },
  {
   "cell_type": "code",
   "execution_count": 28,
   "id": "38d93ec0-7a4d-4928-9217-ccdc43781a36",
   "metadata": {},
   "outputs": [
    {
     "ename": "NameError",
     "evalue": "name 'xgb_model' is not defined",
     "output_type": "error",
     "traceback": [
      "\u001b[0;31m---------------------------------------------------------------------------\u001b[0m",
      "\u001b[0;31mNameError\u001b[0m                                 Traceback (most recent call last)",
      "Cell \u001b[0;32mIn[28], line 1\u001b[0m\n\u001b[0;32m----> 1\u001b[0m imp \u001b[38;5;241m=\u001b[39m pd\u001b[38;5;241m.\u001b[39mDataFrame(\u001b[43mxgb_model\u001b[49m\u001b[38;5;241m.\u001b[39mfeature_importances_,index\u001b[38;5;241m=\u001b[39mX\u001b[38;5;241m.\u001b[39mcolumns,columns\u001b[38;5;241m=\u001b[39m[\u001b[38;5;124m\"\u001b[39m\u001b[38;5;124mimp_score\u001b[39m\u001b[38;5;124m\"\u001b[39m])\u001b[38;5;241m.\u001b[39msort_values(\u001b[38;5;124m\"\u001b[39m\u001b[38;5;124mimp_score\u001b[39m\u001b[38;5;124m\"\u001b[39m,ascending\u001b[38;5;241m=\u001b[39m\u001b[38;5;28;01mFalse\u001b[39;00m)\n",
      "\u001b[0;31mNameError\u001b[0m: name 'xgb_model' is not defined"
     ]
    }
   ],
   "source": [
    "imp = pd.DataFrame(xgb_model.feature_importances_,index=X.columns,columns=[\"imp_score\"]).sort_values(\"imp_score\",ascending=False)"
   ]
  },
  {
   "cell_type": "code",
   "execution_count": 29,
   "id": "e0fda25d-997e-40ba-9a2f-2b33d80f9953",
   "metadata": {},
   "outputs": [
    {
     "ename": "AttributeError",
     "evalue": "'XGBRegressor' object has no attribute 'plot_importance'",
     "output_type": "error",
     "traceback": [
      "\u001b[0;31m---------------------------------------------------------------------------\u001b[0m",
      "\u001b[0;31mAttributeError\u001b[0m                            Traceback (most recent call last)",
      "Cell \u001b[0;32mIn[29], line 1\u001b[0m\n\u001b[0;32m----> 1\u001b[0m \u001b[43mxgb\u001b[49m\u001b[38;5;241;43m.\u001b[39;49m\u001b[43mplot_importance\u001b[49m(xgb_model,importance_type\u001b[38;5;241m=\u001b[39m\u001b[38;5;124m'\u001b[39m\u001b[38;5;124mgain\u001b[39m\u001b[38;5;124m'\u001b[39m,max_num_features\u001b[38;5;241m=\u001b[39m\u001b[38;5;241m20\u001b[39m,height\u001b[38;5;241m=\u001b[39m\u001b[38;5;241m0.5\u001b[39m)\n",
      "\u001b[0;31mAttributeError\u001b[0m: 'XGBRegressor' object has no attribute 'plot_importance'"
     ]
    }
   ],
   "source": [
    "xgb.plot_importance(xgb_model,importance_type='gain',max_num_features=20,height=0.5)"
   ]
  },
  {
   "cell_type": "code",
   "execution_count": null,
   "id": "504d2455-7fa6-40af-8b12-1c5e2352f7f5",
   "metadata": {},
   "outputs": [],
   "source": []
  }
 ],
 "metadata": {
  "kernelspec": {
   "display_name": "Python 3 (ipykernel)",
   "language": "python",
   "name": "python3"
  },
  "language_info": {
   "codemirror_mode": {
    "name": "ipython",
    "version": 3
   },
   "file_extension": ".py",
   "mimetype": "text/x-python",
   "name": "python",
   "nbconvert_exporter": "python",
   "pygments_lexer": "ipython3",
   "version": "3.9.6"
  }
 },
 "nbformat": 4,
 "nbformat_minor": 5
}

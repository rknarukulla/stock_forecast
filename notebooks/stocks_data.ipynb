{
 "cells": [
  {
   "cell_type": "code",
   "execution_count": 1,
   "id": "5acd9a1d-1729-4e82-ae66-222fd534c13c",
   "metadata": {},
   "outputs": [],
   "source": [
    "import sys  \n",
    "sys.path.append( '..')\n"
   ]
  },
  {
   "cell_type": "code",
   "execution_count": 2,
   "id": "326677d2-e3aa-436f-b02c-5feca9282968",
   "metadata": {},
   "outputs": [],
   "source": [
    "from datetime import datetime, timedelta\n",
    "import pandas as pd\n"
   ]
  },
  {
   "cell_type": "code",
   "execution_count": 3,
   "id": "0fa920de-2cac-43f1-bcd6-895e7e45c886",
   "metadata": {},
   "outputs": [
    {
     "data": {
      "text/plain": [
       "(datetime.datetime(2023, 3, 11, 13, 14, 50, 185415),\n",
       " datetime.datetime(2024, 3, 10, 13, 14, 50, 185415))"
      ]
     },
     "execution_count": 3,
     "metadata": {},
     "output_type": "execute_result"
    }
   ],
   "source": [
    "# Define the stock codes you are interested in\n",
    "stock_codes = [\"RELIANCE.NS\", \"TCS.NS\"]  # Example stock codes for Reliance Industries and TCS\n",
    "end_date = datetime.now() - timedelta(days=1)\n",
    "start_date = end_date - timedelta(days=365)\n",
    "start_date, end_date"
   ]
  },
  {
   "cell_type": "code",
   "execution_count": 4,
   "id": "5baa8510-0692-4046-adf1-f7cdadfba88d",
   "metadata": {},
   "outputs": [
    {
     "name": "stderr",
     "output_type": "stream",
     "text": [
      "/Users/ravinarukulla/PycharmProjects/stock_forecast/venv/lib/python3.9/site-packages/urllib3/__init__.py:35: NotOpenSSLWarning: urllib3 v2 only supports OpenSSL 1.1.1+, currently the 'ssl' module is compiled with 'LibreSSL 2.8.3'. See: https://github.com/urllib3/urllib3/issues/3020\n",
      "  warnings.warn(\n"
     ]
    }
   ],
   "source": [
    "from src.stocks import *"
   ]
  },
  {
   "cell_type": "code",
   "execution_count": 5,
   "id": "712cf6f0-a3c3-411f-b047-86819f3cf1d4",
   "metadata": {},
   "outputs": [
    {
     "name": "stderr",
     "output_type": "stream",
     "text": [
      "[*********************100%%**********************]  1 of 1 completed\n",
      "[*********************100%%**********************]  1 of 1 completed\n"
     ]
    }
   ],
   "source": [
    "stock_data = download_stocks(stock_codes, start_date, end_date)"
   ]
  },
  {
   "cell_type": "code",
   "execution_count": 6,
   "id": "a8b75fe8-5374-4ef1-960a-a7a93ad8cd16",
   "metadata": {},
   "outputs": [],
   "source": [
    "data = stock_data['RELIANCE.NS']"
   ]
  },
  {
   "cell_type": "code",
   "execution_count": 7,
   "id": "bb4f2476-9e1a-40f6-bde9-1c0f36c1bd2d",
   "metadata": {},
   "outputs": [
    {
     "data": {
      "text/html": [
       "<div>\n",
       "<style scoped>\n",
       "    .dataframe tbody tr th:only-of-type {\n",
       "        vertical-align: middle;\n",
       "    }\n",
       "\n",
       "    .dataframe tbody tr th {\n",
       "        vertical-align: top;\n",
       "    }\n",
       "\n",
       "    .dataframe thead th {\n",
       "        text-align: right;\n",
       "    }\n",
       "</style>\n",
       "<table border=\"1\" class=\"dataframe\">\n",
       "  <thead>\n",
       "    <tr style=\"text-align: right;\">\n",
       "      <th></th>\n",
       "      <th>Open</th>\n",
       "      <th>High</th>\n",
       "      <th>Low</th>\n",
       "      <th>Close</th>\n",
       "      <th>Adj Close</th>\n",
       "      <th>Volume</th>\n",
       "    </tr>\n",
       "    <tr>\n",
       "      <th>Date</th>\n",
       "      <th></th>\n",
       "      <th></th>\n",
       "      <th></th>\n",
       "      <th></th>\n",
       "      <th></th>\n",
       "      <th></th>\n",
       "    </tr>\n",
       "  </thead>\n",
       "  <tbody>\n",
       "    <tr>\n",
       "      <th>2023-03-13</th>\n",
       "      <td>2149.666260</td>\n",
       "      <td>2163.511230</td>\n",
       "      <td>2099.824219</td>\n",
       "      <td>2108.592773</td>\n",
       "      <td>2101.170410</td>\n",
       "      <td>6385796</td>\n",
       "    </tr>\n",
       "    <tr>\n",
       "      <th>2023-03-14</th>\n",
       "      <td>2104.439209</td>\n",
       "      <td>2127.468018</td>\n",
       "      <td>2094.332520</td>\n",
       "      <td>2100.701172</td>\n",
       "      <td>2093.306641</td>\n",
       "      <td>8013761</td>\n",
       "    </tr>\n",
       "    <tr>\n",
       "      <th>2023-03-15</th>\n",
       "      <td>2108.223633</td>\n",
       "      <td>2121.330078</td>\n",
       "      <td>2055.889404</td>\n",
       "      <td>2064.796387</td>\n",
       "      <td>2057.528320</td>\n",
       "      <td>10864277</td>\n",
       "    </tr>\n",
       "    <tr>\n",
       "      <th>2023-03-16</th>\n",
       "      <td>2070.288330</td>\n",
       "      <td>2080.441162</td>\n",
       "      <td>2032.629883</td>\n",
       "      <td>2054.504883</td>\n",
       "      <td>2047.272949</td>\n",
       "      <td>9181579</td>\n",
       "    </tr>\n",
       "    <tr>\n",
       "      <th>2023-03-17</th>\n",
       "      <td>2071.903564</td>\n",
       "      <td>2078.549072</td>\n",
       "      <td>2042.321411</td>\n",
       "      <td>2051.920654</td>\n",
       "      <td>2044.697876</td>\n",
       "      <td>17007106</td>\n",
       "    </tr>\n",
       "  </tbody>\n",
       "</table>\n",
       "</div>"
      ],
      "text/plain": [
       "                   Open         High          Low        Close    Adj Close  \\\n",
       "Date                                                                          \n",
       "2023-03-13  2149.666260  2163.511230  2099.824219  2108.592773  2101.170410   \n",
       "2023-03-14  2104.439209  2127.468018  2094.332520  2100.701172  2093.306641   \n",
       "2023-03-15  2108.223633  2121.330078  2055.889404  2064.796387  2057.528320   \n",
       "2023-03-16  2070.288330  2080.441162  2032.629883  2054.504883  2047.272949   \n",
       "2023-03-17  2071.903564  2078.549072  2042.321411  2051.920654  2044.697876   \n",
       "\n",
       "              Volume  \n",
       "Date                  \n",
       "2023-03-13   6385796  \n",
       "2023-03-14   8013761  \n",
       "2023-03-15  10864277  \n",
       "2023-03-16   9181579  \n",
       "2023-03-17  17007106  "
      ]
     },
     "execution_count": 7,
     "metadata": {},
     "output_type": "execute_result"
    }
   ],
   "source": [
    "data.head()"
   ]
  },
  {
   "cell_type": "code",
   "execution_count": 8,
   "id": "8ec13143-4bdd-4539-ac55-fe91a5dd952d",
   "metadata": {},
   "outputs": [
    {
     "name": "stderr",
     "output_type": "stream",
     "text": [
      "/Users/ravinarukulla/PycharmProjects/stock_forecast/venv/lib/python3.9/site-packages/ta/trend.py:1030: FutureWarning: Series.__setitem__ treating keys as positions is deprecated. In a future version, integer keys will always be treated as labels (consistent with DataFrame behavior). To set a value by position, use `ser.iloc[pos] = value`\n",
      "  self._psar[i] = high2\n"
     ]
    }
   ],
   "source": [
    "# Add all ta features filling nans values\n",
    "data_features = ta.add_all_ta_features(\n",
    "    data,open= \"Open\",high= \"High\",low= \"Low\",close= \"Close\", volume=\"Volume\", fillna=True)"
   ]
  },
  {
   "cell_type": "code",
   "execution_count": 9,
   "id": "76a1047f-abdf-4dea-885d-e2041884df3f",
   "metadata": {},
   "outputs": [],
   "source": [
    "lag_features = get_lag_features(data_features, feature='Close').drop('Close',axis=1,errors='ignore').fillna(0)"
   ]
  },
  {
   "cell_type": "code",
   "execution_count": 20,
   "id": "d86d73bc-8dac-4553-aa7e-0604c0291300",
   "metadata": {},
   "outputs": [],
   "source": [
    "data_features = pd.concat([data_features,lag_features],axis='columns')"
   ]
  },
  {
   "cell_type": "code",
   "execution_count": 26,
   "id": "173ad5fa-1b0b-43e6-b39e-fc01f0b2af09",
   "metadata": {},
   "outputs": [],
   "source": [
    "y = get_target(data_features, target_feature='Close')"
   ]
  },
  {
   "cell_type": "code",
   "execution_count": 28,
   "id": "c23e50b8-d491-4890-b1f8-4dcec478ff71",
   "metadata": {},
   "outputs": [],
   "source": [
    "X = data_features.drop(data_features.tail(1).index)\n",
    "y  = y.drop(y.tail(1).index)"
   ]
  },
  {
   "cell_type": "code",
   "execution_count": 39,
   "id": "e806f1d8-bb35-493f-b065-0a7225578a07",
   "metadata": {},
   "outputs": [],
   "source": [
    "stock_name = stock_codes[0].split('.')[0]\n",
    "X.to_csv(f\"features_{stock_name}.csv\")\n",
    "y.to_csv(f\"target_{stock_name}.csv\")"
   ]
  },
  {
   "cell_type": "code",
   "execution_count": null,
   "id": "16458f4f-29bb-4943-b884-939df683072d",
   "metadata": {},
   "outputs": [],
   "source": []
  }
 ],
 "metadata": {
  "kernelspec": {
   "display_name": "Python 3 (ipykernel)",
   "language": "python",
   "name": "python3"
  },
  "language_info": {
   "codemirror_mode": {
    "name": "ipython",
    "version": 3
   },
   "file_extension": ".py",
   "mimetype": "text/x-python",
   "name": "python",
   "nbconvert_exporter": "python",
   "pygments_lexer": "ipython3",
   "version": "3.9.6"
  }
 },
 "nbformat": 4,
 "nbformat_minor": 5
}

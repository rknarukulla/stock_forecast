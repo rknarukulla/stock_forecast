{
 "cells": [
  {
   "cell_type": "code",
   "execution_count": 8,
   "id": "5acd9a1d-1729-4e82-ae66-222fd534c13c",
   "metadata": {},
   "outputs": [],
   "source": [
    "import sys  \n",
    "sys.path.append( '..')"
   ]
  },
  {
   "cell_type": "code",
   "execution_count": 9,
   "id": "326677d2-e3aa-436f-b02c-5feca9282968",
   "metadata": {},
   "outputs": [],
   "source": [
    "from datetime import datetime, timedelta\n",
    "import pandas as pd\n"
   ]
  },
  {
   "cell_type": "code",
   "execution_count": 10,
   "id": "5baa8510-0692-4046-adf1-f7cdadfba88d",
   "metadata": {},
   "outputs": [],
   "source": [
    "from src.stocks import *"
   ]
  },
  {
   "cell_type": "code",
   "execution_count": 11,
   "id": "0fa920de-2cac-43f1-bcd6-895e7e45c886",
   "metadata": {},
   "outputs": [
    {
     "data": {
      "text/plain": [
       "(datetime.datetime(2023, 3, 12, 13, 50, 47, 880433),\n",
       " datetime.datetime(2024, 3, 11, 13, 50, 47, 880433))"
      ]
     },
     "execution_count": 11,
     "metadata": {},
     "output_type": "execute_result"
    }
   ],
   "source": [
    "# Define the stock codes you are interested in\n",
    "stock_codes = [\"RELIANCE.NS\"] #\"TCS.NS\",\"DABUR.NS\",\"ADANIGREEN.NS\",\"SOLARA.NS\",\"ZYDUSLIFE.NS\",\"TATAMOTORS.NS\",\"KPIL.NS\"]\n",
    "end_date = datetime.now() - timedelta(days=1)\n",
    "start_date = end_date - timedelta(days=365)\n",
    "start_date, end_date"
   ]
  },
  {
   "cell_type": "code",
   "execution_count": 12,
   "id": "712cf6f0-a3c3-411f-b047-86819f3cf1d4",
   "metadata": {},
   "outputs": [
    {
     "name": "stdout",
     "output_type": "stream",
     "text": [
      "generating features for  RELIANCE.NS\n"
     ]
    },
    {
     "name": "stderr",
     "output_type": "stream",
     "text": [
      "[*********************100%%**********************]  1 of 1 completed"
     ]
    },
    {
     "name": "stdout",
     "output_type": "stream",
     "text": [
      "file names:  features_RELIANCE.NS.csv target_RELIANCE.NS.csv features_RELIANCE.NS_test.csv\n"
     ]
    },
    {
     "name": "stderr",
     "output_type": "stream",
     "text": [
      "\n",
      "/Users/ravinarukulla/PycharmProjects/stock_forecast/venv/lib/python3.9/site-packages/ta/trend.py:1030: FutureWarning: Series.__setitem__ treating keys as positions is deprecated. In a future version, integer keys will always be treated as labels (consistent with DataFrame behavior). To set a value by position, use `ser.iloc[pos] = value`\n",
      "  self._psar[i] = high2\n"
     ]
    }
   ],
   "source": [
    "generate_all_features(stock_codes, start_date, end_date,test_days=7, get_test_data=True)"
   ]
  },
  {
   "cell_type": "code",
   "execution_count": 13,
   "id": "1c701457-57a6-4797-9f03-2aee405d242e",
   "metadata": {},
   "outputs": [
    {
     "name": "stderr",
     "output_type": "stream",
     "text": [
      "/Users/ravinarukulla/PycharmProjects/stock_forecast/venv/lib/python3.9/site-packages/xgboost/core.py:160: UserWarning: [13:50:48] WARNING: /Users/runner/work/xgboost/xgboost/src/objective/regression_obj.cu:209: reg:linear is now deprecated in favor of reg:squarederror.\n",
      "  warnings.warn(smsg, UserWarning)\n"
     ]
    },
    {
     "name": "stdout",
     "output_type": "stream",
     "text": [
      "Building model for  RELIANCE.NS\n",
      "mean Square error in train data: 1.863083418677835e-06\n"
     ]
    }
   ],
   "source": [
    "forecast_df = build_n_forecast(stock_codes)"
   ]
  },
  {
   "cell_type": "code",
   "execution_count": 14,
   "id": "fe9cf774-db9a-4a80-8e44-92e83df0c240",
   "metadata": {},
   "outputs": [
    {
     "data": {
      "text/html": [
       "<div>\n",
       "<style scoped>\n",
       "    .dataframe tbody tr th:only-of-type {\n",
       "        vertical-align: middle;\n",
       "    }\n",
       "\n",
       "    .dataframe tbody tr th {\n",
       "        vertical-align: top;\n",
       "    }\n",
       "\n",
       "    .dataframe thead th {\n",
       "        text-align: right;\n",
       "    }\n",
       "</style>\n",
       "<table border=\"1\" class=\"dataframe\">\n",
       "  <thead>\n",
       "    <tr style=\"text-align: right;\">\n",
       "      <th></th>\n",
       "      <th>Date</th>\n",
       "      <th>forecast</th>\n",
       "      <th>Stock</th>\n",
       "      <th>Forecast_period</th>\n",
       "    </tr>\n",
       "  </thead>\n",
       "  <tbody>\n",
       "    <tr>\n",
       "      <th>0</th>\n",
       "      <td>2024-02-29</td>\n",
       "      <td>2941.527100</td>\n",
       "      <td>RELIANCE.NS</td>\n",
       "      <td>2024-03-01</td>\n",
       "    </tr>\n",
       "    <tr>\n",
       "      <th>1</th>\n",
       "      <td>2024-03-01</td>\n",
       "      <td>2932.448975</td>\n",
       "      <td>RELIANCE.NS</td>\n",
       "      <td>2024-03-02</td>\n",
       "    </tr>\n",
       "    <tr>\n",
       "      <th>2</th>\n",
       "      <td>2024-03-04</td>\n",
       "      <td>2959.322021</td>\n",
       "      <td>RELIANCE.NS</td>\n",
       "      <td>2024-03-05</td>\n",
       "    </tr>\n",
       "    <tr>\n",
       "      <th>3</th>\n",
       "      <td>2024-03-05</td>\n",
       "      <td>2949.711670</td>\n",
       "      <td>RELIANCE.NS</td>\n",
       "      <td>2024-03-06</td>\n",
       "    </tr>\n",
       "    <tr>\n",
       "      <th>4</th>\n",
       "      <td>2024-03-06</td>\n",
       "      <td>2950.224365</td>\n",
       "      <td>RELIANCE.NS</td>\n",
       "      <td>2024-03-07</td>\n",
       "    </tr>\n",
       "    <tr>\n",
       "      <th>5</th>\n",
       "      <td>2024-03-07</td>\n",
       "      <td>2927.518311</td>\n",
       "      <td>RELIANCE.NS</td>\n",
       "      <td>2024-03-08</td>\n",
       "    </tr>\n",
       "    <tr>\n",
       "      <th>6</th>\n",
       "      <td>2024-03-11</td>\n",
       "      <td>2922.198242</td>\n",
       "      <td>RELIANCE.NS</td>\n",
       "      <td>2024-03-12</td>\n",
       "    </tr>\n",
       "  </tbody>\n",
       "</table>\n",
       "</div>"
      ],
      "text/plain": [
       "         Date     forecast        Stock Forecast_period\n",
       "0  2024-02-29  2941.527100  RELIANCE.NS      2024-03-01\n",
       "1  2024-03-01  2932.448975  RELIANCE.NS      2024-03-02\n",
       "2  2024-03-04  2959.322021  RELIANCE.NS      2024-03-05\n",
       "3  2024-03-05  2949.711670  RELIANCE.NS      2024-03-06\n",
       "4  2024-03-06  2950.224365  RELIANCE.NS      2024-03-07\n",
       "5  2024-03-07  2927.518311  RELIANCE.NS      2024-03-08\n",
       "6  2024-03-11  2922.198242  RELIANCE.NS      2024-03-12"
      ]
     },
     "execution_count": 14,
     "metadata": {},
     "output_type": "execute_result"
    }
   ],
   "source": [
    "forecast_df"
   ]
  },
  {
   "cell_type": "code",
   "execution_count": null,
   "id": "08aeb760-9f3a-4c45-9c94-c5c558491688",
   "metadata": {},
   "outputs": [],
   "source": []
  }
 ],
 "metadata": {
  "kernelspec": {
   "display_name": "Python 3 (ipykernel)",
   "language": "python",
   "name": "python3"
  },
  "language_info": {
   "codemirror_mode": {
    "name": "ipython",
    "version": 3
   },
   "file_extension": ".py",
   "mimetype": "text/x-python",
   "name": "python",
   "nbconvert_exporter": "python",
   "pygments_lexer": "ipython3",
   "version": "3.9.6"
  }
 },
 "nbformat": 4,
 "nbformat_minor": 5
}

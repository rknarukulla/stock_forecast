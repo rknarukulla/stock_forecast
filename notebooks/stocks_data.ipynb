{
 "cells": [
  {
   "cell_type": "code",
   "execution_count": 1,
   "id": "5acd9a1d-1729-4e82-ae66-222fd534c13c",
   "metadata": {},
   "outputs": [],
   "source": [
    "import sys  \n",
    "sys.path.append( '..')"
   ]
  },
  {
   "cell_type": "code",
   "execution_count": 2,
   "id": "326677d2-e3aa-436f-b02c-5feca9282968",
   "metadata": {},
   "outputs": [],
   "source": [
    "import datetime as dt\n",
    "import pandas as pd\n",
    "import matplotlib.pyplot as plt\n"
   ]
  },
  {
   "cell_type": "code",
   "execution_count": 3,
   "id": "5baa8510-0692-4046-adf1-f7cdadfba88d",
   "metadata": {},
   "outputs": [],
   "source": [
    "from src.stocks import *"
   ]
  },
  {
   "cell_type": "code",
   "execution_count": 4,
   "id": "0fa920de-2cac-43f1-bcd6-895e7e45c886",
   "metadata": {},
   "outputs": [
    {
     "data": {
      "text/plain": [
       "(datetime.datetime(2022, 4, 13, 13, 59, 26, 964566),\n",
       " datetime.datetime(2024, 4, 10, 13, 59, 26, 964566))"
      ]
     },
     "execution_count": 4,
     "metadata": {},
     "output_type": "execute_result"
    }
   ],
   "source": [
    "# Define the stock codes you are interested in\n",
    "stock_codes = [\"RELIANCE.NS\",\"TCS.NS\",\"DABUR.NS\",\"ADANIGREEN.NS\",\"SOLARA.NS\",\"ZYDUSLIFE.NS\",\"TATAMOTORS.NS\",\"KPIL.NS\"]\n",
    "\n",
    "# end_date = datetime.now() - timedelta(days=1)\n",
    "end_date= dt.datetime(2024, 4, 10, 13, 59, 26, 964566)\n",
    "\n",
    "start_date = end_date - dt.timedelta(days=728)\n",
    "start_date, end_date"
   ]
  },
  {
   "cell_type": "code",
   "execution_count": 5,
   "id": "eecb50ba-e18d-4003-8d95-95c81ce76935",
   "metadata": {},
   "outputs": [],
   "source": [
    "import pandas_market_calendars as mcal\n",
    "bse = mcal.get_calendar('BSE')\n",
    "dates = bse.schedule(start_date=end_date, end_date=end_date+dt.timedelta(days=1))"
   ]
  },
  {
   "cell_type": "code",
   "execution_count": 6,
   "id": "552927d4-3959-45f2-b315-67ed8790f096",
   "metadata": {},
   "outputs": [
    {
     "data": {
      "text/plain": [
       "Timestamp('2024-04-10 10:00:00+0000', tz='UTC')"
      ]
     },
     "execution_count": 6,
     "metadata": {},
     "output_type": "execute_result"
    }
   ],
   "source": [
    "dates['market_close'].min()"
   ]
  },
  {
   "cell_type": "code",
   "execution_count": 7,
   "id": "712cf6f0-a3c3-411f-b047-86819f3cf1d4",
   "metadata": {},
   "outputs": [
    {
     "name": "stdout",
     "output_type": "stream",
     "text": [
      "generating features for  RELIANCE.NS\n"
     ]
    },
    {
     "name": "stderr",
     "output_type": "stream",
     "text": [
      "[*********************100%%**********************]  1 of 1 completed\n",
      "/Users/ravinarukulla/PycharmProjects/stock_forecast/venv_311/lib/python3.11/site-packages/ta/trend.py:1030: FutureWarning: Series.__setitem__ treating keys as positions is deprecated. In a future version, integer keys will always be treated as labels (consistent with DataFrame behavior). To set a value by position, use `ser.iloc[pos] = value`\n",
      "  self._psar[i] = high2\n",
      "/Users/ravinarukulla/PycharmProjects/stock_forecast/venv_311/lib/python3.11/site-packages/statsmodels/tsa/base/tsa_model.py:473: ValueWarning: A date index has been provided, but it has no associated frequency information and so will be ignored when e.g. forecasting.\n",
      "  self._init_dates(dates, freq)\n",
      "/Users/ravinarukulla/PycharmProjects/stock_forecast/venv_311/lib/python3.11/site-packages/statsmodels/tsa/base/tsa_model.py:836: ValueWarning: No supported index is available. Prediction results will be given with an integer index beginning at `start`.\n",
      "  return get_prediction_index(\n",
      "/Users/ravinarukulla/PycharmProjects/stock_forecast/venv_311/lib/python3.11/site-packages/statsmodels/tsa/base/tsa_model.py:836: FutureWarning: No supported index is available. In the next version, calling this method in a model without a supported index will result in an exception.\n",
      "  return get_prediction_index(\n",
      "ic| data.index.name: 'Date'\n",
      "    data.columns: Index(['Open', 'High', 'Low', 'Close', 'Adj Close', 'Volume', 'volume_adi',\n",
      "                         'volume_obv', 'volume_cmf', 'volume_fi', 'volume_em', 'volume_sma_em',\n",
      "                         'volume_vpt', 'volume_vwap', 'volume_mfi', 'volume_nvi',\n",
      "                         'volatility_bbm', 'volatility_bbh', 'volatility_bbl', 'volatility_bbw',\n",
      "                         'volatility_bbp', 'volatility_bbhi', 'volatility_bbli',\n",
      "                         'volatility_kcc', 'volatility_kch', 'volatility_kcl', 'volatility_kcw',\n",
      "                         'volatility_kcp', 'volatility_kchi', 'volatility_kcli',\n",
      "                         'volatility_dcl', 'volatility_dch', 'volatility_dcm', 'volatility_dcw',\n",
      "                         'volatility_dcp', 'volatility_atr', 'volatility_ui', 'trend_macd',\n",
      "                         'trend_macd_signal', 'trend_macd_diff', 'trend_sma_fast',\n",
      "                         'trend_sma_slow', 'trend_ema_fast', 'trend_ema_slow',\n",
      "                         'trend_vortex_ind_pos', 'trend_vortex_ind_neg', 'trend_vortex_ind_diff',\n",
      "                         'trend_trix', 'trend_mass_index', 'trend_dpo', 'trend_kst',\n",
      "                         'trend_kst_sig', 'trend_kst_diff', 'trend_ichimoku_conv',\n",
      "                         'trend_ichimoku_base', 'trend_ichimoku_a', 'trend_ichimoku_b',\n",
      "                         'trend_stc', 'trend_adx', 'trend_adx_pos', 'trend_adx_neg', 'trend_cci',\n",
      "                         'trend_visual_ichimoku_a', 'trend_visual_ichimoku_b', 'trend_aroon_up',\n",
      "                         'trend_aroon_down', 'trend_aroon_ind', 'trend_psar_up',\n",
      "                         'trend_psar_down', 'trend_psar_up_indicator',\n",
      "                         'trend_psar_down_indicator', 'momentum_rsi', 'momentum_stoch_rsi',\n",
      "                         'momentum_stoch_rsi_k', 'momentum_stoch_rsi_d', 'momentum_tsi',\n",
      "                         'momentum_uo', 'momentum_stoch', 'momentum_stoch_signal', 'momentum_wr',\n",
      "                         'momentum_ao', 'momentum_roc', 'momentum_ppo', 'momentum_ppo_signal',\n",
      "                         'momentum_ppo_hist', 'momentum_pvo', 'momentum_pvo_signal',\n",
      "                         'momentum_pvo_hist', 'momentum_kama', 'others_dr', 'others_dlr',\n",
      "                         'others_cr', 'exp_fitted'],\n",
      "                        dtype='object')\n"
     ]
    },
    {
     "ename": "AttributeError",
     "evalue": "'DatetimeIndex' object has no attribute 'columns'",
     "output_type": "error",
     "traceback": [
      "\u001b[0;31m---------------------------------------------------------------------------\u001b[0m",
      "\u001b[0;31mAttributeError\u001b[0m                            Traceback (most recent call last)",
      "Cell \u001b[0;32mIn[7], line 1\u001b[0m\n\u001b[0;32m----> 1\u001b[0m \u001b[43mgenerate_all_features\u001b[49m\u001b[43m(\u001b[49m\u001b[43mstock_codes\u001b[49m\u001b[43m,\u001b[49m\u001b[43m \u001b[49m\u001b[43mstart_date\u001b[49m\u001b[43m,\u001b[49m\u001b[43m \u001b[49m\u001b[43mend_date\u001b[49m\u001b[43m,\u001b[49m\u001b[43mtest_days\u001b[49m\u001b[38;5;241;43m=\u001b[39;49m\u001b[38;5;241;43m1\u001b[39;49m\u001b[43m,\u001b[49m\u001b[43m \u001b[49m\u001b[43mget_test_data\u001b[49m\u001b[38;5;241;43m=\u001b[39;49m\u001b[38;5;28;43;01mTrue\u001b[39;49;00m\u001b[43m)\u001b[49m\n",
      "File \u001b[0;32m~/PycharmProjects/stock_forecast/notebooks/../src/stocks.py:417\u001b[0m, in \u001b[0;36mgenerate_all_features\u001b[0;34m(stock_codes, start_date, end_date, test_days, get_test_data)\u001b[0m\n\u001b[1;32m    404\u001b[0m exp_fitted, exp_forecast \u001b[38;5;241m=\u001b[39m optimized_exponential_smoothing(\n\u001b[1;32m    405\u001b[0m     data\u001b[38;5;241m=\u001b[39mdata,\n\u001b[1;32m    406\u001b[0m     date_column\u001b[38;5;241m=\u001b[39m\u001b[38;5;124m\"\u001b[39m\u001b[38;5;124mDate\u001b[39m\u001b[38;5;124m\"\u001b[39m,\n\u001b[0;32m   (...)\u001b[0m\n\u001b[1;32m    409\u001b[0m     seasonal_periods\u001b[38;5;241m=\u001b[39m\u001b[38;5;241m12\u001b[39m,\n\u001b[1;32m    410\u001b[0m )\n\u001b[1;32m    412\u001b[0m data[\u001b[38;5;124m\"\u001b[39m\u001b[38;5;124mexp_fitted\u001b[39m\u001b[38;5;124m\"\u001b[39m] \u001b[38;5;241m=\u001b[39m (\n\u001b[1;32m    413\u001b[0m     pd\u001b[38;5;241m.\u001b[39mconcat([exp_fitted, exp_forecast])\n\u001b[1;32m    414\u001b[0m     \u001b[38;5;241m.\u001b[39mshift(\u001b[38;5;241m-\u001b[39mtest_days)\n\u001b[1;32m    415\u001b[0m     \u001b[38;5;241m.\u001b[39mhead(\u001b[38;5;241m-\u001b[39mtest_days)\n\u001b[1;32m    416\u001b[0m )\n\u001b[0;32m--> 417\u001b[0m data[\u001b[38;5;124m\"\u001b[39m\u001b[38;5;124mdiff_previous_days\u001b[39m\u001b[38;5;124m\"\u001b[39m] \u001b[38;5;241m=\u001b[39m \u001b[43mget_date_diff\u001b[49m\u001b[43m(\u001b[49m\u001b[43mdata\u001b[49m\u001b[43m,\u001b[49m\u001b[43m \u001b[49m\u001b[43mdate_column\u001b[49m\u001b[38;5;241;43m=\u001b[39;49m\u001b[38;5;124;43m\"\u001b[39;49m\u001b[38;5;124;43mDate\u001b[39;49m\u001b[38;5;124;43m\"\u001b[39;49m\u001b[43m)\u001b[49m\n\u001b[1;32m    418\u001b[0m day_features \u001b[38;5;241m=\u001b[39m get_day_names(data, date_column\u001b[38;5;241m=\u001b[39m\u001b[38;5;124m\"\u001b[39m\u001b[38;5;124mDate\u001b[39m\u001b[38;5;124m\"\u001b[39m)\n\u001b[1;32m    419\u001b[0m \u001b[38;5;66;03m# combine all features\u001b[39;00m\n",
      "File \u001b[0;32m~/PycharmProjects/stock_forecast/notebooks/../src/stocks.py:362\u001b[0m, in \u001b[0;36mget_date_diff\u001b[0;34m(data, date_column)\u001b[0m\n\u001b[1;32m    360\u001b[0m \u001b[38;5;28;01melse\u001b[39;00m:\n\u001b[1;32m    361\u001b[0m     ts \u001b[38;5;241m=\u001b[39m data[date_column]\n\u001b[0;32m--> 362\u001b[0m ic\u001b[38;5;241m.\u001b[39mic(\u001b[38;5;28mtype\u001b[39m(ts), \u001b[43mts\u001b[49m\u001b[38;5;241;43m.\u001b[39;49m\u001b[43mcolumns\u001b[49m)\n\u001b[1;32m    363\u001b[0m data[\u001b[38;5;124m\"\u001b[39m\u001b[38;5;124mdiff_previous_days\u001b[39m\u001b[38;5;124m\"\u001b[39m] \u001b[38;5;241m=\u001b[39m ts[date_column]\u001b[38;5;241m.\u001b[39mdt\u001b[38;5;241m.\u001b[39mdays\n\u001b[1;32m    364\u001b[0m data[\u001b[38;5;124m\"\u001b[39m\u001b[38;5;124mdiff_previous_days\u001b[39m\u001b[38;5;124m\"\u001b[39m] \u001b[38;5;241m=\u001b[39m data[\u001b[38;5;124m\"\u001b[39m\u001b[38;5;124mdiff_previous_days\u001b[39m\u001b[38;5;124m\"\u001b[39m]\u001b[38;5;241m.\u001b[39mfillna(\u001b[38;5;241m0\u001b[39m)\n",
      "\u001b[0;31mAttributeError\u001b[0m: 'DatetimeIndex' object has no attribute 'columns'"
     ]
    }
   ],
   "source": [
    "generate_all_features(stock_codes, start_date, end_date,test_days=1, get_test_data=True)"
   ]
  },
  {
   "cell_type": "code",
   "execution_count": null,
   "id": "fe9cf774-db9a-4a80-8e44-92e83df0c240",
   "metadata": {},
   "outputs": [],
   "source": [
    "# forecast_df"
   ]
  },
  {
   "cell_type": "code",
   "execution_count": null,
   "id": "08aeb760-9f3a-4c45-9c94-c5c558491688",
   "metadata": {},
   "outputs": [],
   "source": [
    "data = pd.read_csv('features_TATAMOTORS.NS.csv')\n",
    "# data = pd.read_csv('target_TATAMOTORS.NS.csv')"
   ]
  },
  {
   "cell_type": "code",
   "execution_count": null,
   "id": "4db78a98-25f9-4faa-b731-bde9d5f7911f",
   "metadata": {},
   "outputs": [],
   "source": [
    "data['Date'] = pd.to_datetime(data['Date'])"
   ]
  },
  {
   "cell_type": "code",
   "execution_count": 9,
   "id": "0a97a3ad-54bd-477f-acc0-2a973edb7205",
   "metadata": {},
   "outputs": [],
   "source": [
    "# list(data.columns)"
   ]
  },
  {
   "cell_type": "code",
   "execution_count": 14,
   "id": "7914c89b-15dc-49c2-aab8-50e24b64bc70",
   "metadata": {},
   "outputs": [
    {
     "data": {
      "text/plain": [
       "0      0.0\n",
       "1      5.0\n",
       "2      1.0\n",
       "3      1.0\n",
       "4      1.0\n",
       "      ... \n",
       "485    1.0\n",
       "486    1.0\n",
       "487    1.0\n",
       "488    1.0\n",
       "489    3.0\n",
       "Name: Date, Length: 490, dtype: float64"
      ]
     },
     "execution_count": 14,
     "metadata": {},
     "output_type": "execute_result"
    }
   ],
   "source": [
    "data['Date'].diff().dt.days.fillna(0)"
   ]
  },
  {
   "cell_type": "code",
   "execution_count": 11,
   "id": "12bf2f94-72a6-4637-b325-052a4fd4f07e",
   "metadata": {},
   "outputs": [],
   "source": [
    "def get_day_names(data,date_columns):\n",
    "    data[\"day\"]= data[date_columns].dt.day_name()\n",
    "    return pd.get_dummies(data[\"day\"])"
   ]
  },
  {
   "cell_type": "code",
   "execution_count": 12,
   "id": "74a2e511-eb16-4049-af19-3d413a30e964",
   "metadata": {},
   "outputs": [
    {
     "data": {
      "text/html": [
       "<div>\n",
       "<style scoped>\n",
       "    .dataframe tbody tr th:only-of-type {\n",
       "        vertical-align: middle;\n",
       "    }\n",
       "\n",
       "    .dataframe tbody tr th {\n",
       "        vertical-align: top;\n",
       "    }\n",
       "\n",
       "    .dataframe thead th {\n",
       "        text-align: right;\n",
       "    }\n",
       "</style>\n",
       "<table border=\"1\" class=\"dataframe\">\n",
       "  <thead>\n",
       "    <tr style=\"text-align: right;\">\n",
       "      <th></th>\n",
       "      <th>Friday</th>\n",
       "      <th>Monday</th>\n",
       "      <th>Thursday</th>\n",
       "      <th>Tuesday</th>\n",
       "      <th>Wednesday</th>\n",
       "    </tr>\n",
       "  </thead>\n",
       "  <tbody>\n",
       "    <tr>\n",
       "      <th>0</th>\n",
       "      <td>False</td>\n",
       "      <td>False</td>\n",
       "      <td>False</td>\n",
       "      <td>False</td>\n",
       "      <td>True</td>\n",
       "    </tr>\n",
       "    <tr>\n",
       "      <th>1</th>\n",
       "      <td>False</td>\n",
       "      <td>True</td>\n",
       "      <td>False</td>\n",
       "      <td>False</td>\n",
       "      <td>False</td>\n",
       "    </tr>\n",
       "    <tr>\n",
       "      <th>2</th>\n",
       "      <td>False</td>\n",
       "      <td>False</td>\n",
       "      <td>False</td>\n",
       "      <td>True</td>\n",
       "      <td>False</td>\n",
       "    </tr>\n",
       "    <tr>\n",
       "      <th>3</th>\n",
       "      <td>False</td>\n",
       "      <td>False</td>\n",
       "      <td>False</td>\n",
       "      <td>False</td>\n",
       "      <td>True</td>\n",
       "    </tr>\n",
       "    <tr>\n",
       "      <th>4</th>\n",
       "      <td>False</td>\n",
       "      <td>False</td>\n",
       "      <td>True</td>\n",
       "      <td>False</td>\n",
       "      <td>False</td>\n",
       "    </tr>\n",
       "    <tr>\n",
       "      <th>...</th>\n",
       "      <td>...</td>\n",
       "      <td>...</td>\n",
       "      <td>...</td>\n",
       "      <td>...</td>\n",
       "      <td>...</td>\n",
       "    </tr>\n",
       "    <tr>\n",
       "      <th>485</th>\n",
       "      <td>False</td>\n",
       "      <td>False</td>\n",
       "      <td>False</td>\n",
       "      <td>True</td>\n",
       "      <td>False</td>\n",
       "    </tr>\n",
       "    <tr>\n",
       "      <th>486</th>\n",
       "      <td>False</td>\n",
       "      <td>False</td>\n",
       "      <td>False</td>\n",
       "      <td>False</td>\n",
       "      <td>True</td>\n",
       "    </tr>\n",
       "    <tr>\n",
       "      <th>487</th>\n",
       "      <td>False</td>\n",
       "      <td>False</td>\n",
       "      <td>True</td>\n",
       "      <td>False</td>\n",
       "      <td>False</td>\n",
       "    </tr>\n",
       "    <tr>\n",
       "      <th>488</th>\n",
       "      <td>True</td>\n",
       "      <td>False</td>\n",
       "      <td>False</td>\n",
       "      <td>False</td>\n",
       "      <td>False</td>\n",
       "    </tr>\n",
       "    <tr>\n",
       "      <th>489</th>\n",
       "      <td>False</td>\n",
       "      <td>True</td>\n",
       "      <td>False</td>\n",
       "      <td>False</td>\n",
       "      <td>False</td>\n",
       "    </tr>\n",
       "  </tbody>\n",
       "</table>\n",
       "<p>490 rows × 5 columns</p>\n",
       "</div>"
      ],
      "text/plain": [
       "     Friday  Monday  Thursday  Tuesday  Wednesday\n",
       "0     False   False     False    False       True\n",
       "1     False    True     False    False      False\n",
       "2     False   False     False     True      False\n",
       "3     False   False     False    False       True\n",
       "4     False   False      True    False      False\n",
       "..      ...     ...       ...      ...        ...\n",
       "485   False   False     False     True      False\n",
       "486   False   False     False    False       True\n",
       "487   False   False      True    False      False\n",
       "488    True   False     False    False      False\n",
       "489   False    True     False    False      False\n",
       "\n",
       "[490 rows x 5 columns]"
      ]
     },
     "execution_count": 12,
     "metadata": {},
     "output_type": "execute_result"
    }
   ],
   "source": [
    "get_day_names(data,date_columns='Date')"
   ]
  },
  {
   "cell_type": "code",
   "execution_count": 12,
   "id": "d7fde19f-f3ab-4949-85c3-2b79e0c677a9",
   "metadata": {},
   "outputs": [
    {
     "name": "stdout",
     "output_type": "stream",
     "text": [
      "Performing stepwise search to minimize aic\n",
      " ARIMA(2,1,2)(0,0,0)[0] intercept   : AIC=inf, Time=0.31 sec\n",
      " ARIMA(0,1,0)(0,0,0)[0] intercept   : AIC=1804.772, Time=0.01 sec\n",
      " ARIMA(1,1,0)(0,0,0)[0] intercept   : AIC=1806.720, Time=0.02 sec\n",
      " ARIMA(0,1,1)(0,0,0)[0] intercept   : AIC=1806.719, Time=0.02 sec\n",
      " ARIMA(0,1,0)(0,0,0)[0]             : AIC=1818.162, Time=0.01 sec\n",
      " ARIMA(1,1,1)(0,0,0)[0] intercept   : AIC=1808.717, Time=0.03 sec\n",
      "\n",
      "Best model:  ARIMA(0,1,0)(0,0,0)[0] intercept\n",
      "Total fit time: 0.402 seconds\n"
     ]
    },
    {
     "name": "stderr",
     "output_type": "stream",
     "text": [
      "/Users/ravinarukulla/PycharmProjects/stock_forecast/venv/lib/python3.9/site-packages/statsmodels/tsa/base/tsa_model.py:836: ValueWarning: No supported index is available. Prediction results will be given with an integer index beginning at `start`.\n",
      "  return get_prediction_index(\n",
      "/Users/ravinarukulla/PycharmProjects/stock_forecast/venv/lib/python3.9/site-packages/statsmodels/tsa/base/tsa_model.py:836: FutureWarning: No supported index is available. In the next version, calling this method in a model without a supported index will result in an exception.\n",
      "  return get_prediction_index(\n"
     ]
    },
    {
     "data": {
      "image/png": "[encoded data removed]",
      "text/plain": [
       "<Figure size 640x480 with 1 Axes>"
      ]
     },
     "metadata": {},
     "output_type": "display_data"
    }
   ],
   "source": [
    "train = data.set_index(\"Date\")\n",
    "model = pm.auto_arima(train, trace=True, error_action='ignore', suppress_warnings=True)\n",
    "model.fit(train)\n",
    "\n",
    "forecast = model.predict(n_periods=len(train))\n",
    "forecast = pd.DataFrame(forecast,index = train.index,columns=['Prediction'])\n",
    "\n",
    "#plot the predictions for validation set\n",
    "plt.plot(train, label='Train')\n",
    "plt.plot(train, label='Valid')\n",
    "plt.plot(forecast, label='Prediction')\n",
    "plt.show()"
   ]
  },
  {
   "cell_type": "code",
   "execution_count": null,
   "id": "3b166485-e235-41c2-aed1-0a866a3b4fc1",
   "metadata": {},
   "outputs": [],
   "source": []
  },
  {
   "cell_type": "code",
   "execution_count": null,
   "id": "5bcf260c-fae1-40ed-b9b9-24374c346f4c",
   "metadata": {},
   "outputs": [],
   "source": []
  }
 ],
 "metadata": {
  "kernelspec": {
   "display_name": "Python 3 (ipykernel)",
   "language": "python",
   "name": "python3"
  },
  "language_info": {
   "codemirror_mode": {
    "name": "ipython",
    "version": 3
   },
   "file_extension": ".py",
   "mimetype": "text/x-python",
   "name": "python",
   "nbconvert_exporter": "python",
   "pygments_lexer": "ipython3",
   "version": "3.11.8"
  }
 },
 "nbformat": 4,
 "nbformat_minor": 5
}
